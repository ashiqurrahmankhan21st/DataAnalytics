{
 "cells": [
  {
   "cell_type": "markdown",
   "id": "c761dd3e",
   "metadata": {},
   "source": [
    "# Model Implementation"
   ]
  },
  {
   "cell_type": "code",
   "execution_count": null,
   "id": "ad369e8d",
   "metadata": {},
   "outputs": [],
   "source": [
    "from sklearn import svm\n",
    "from sklearn import tree\n",
    "from sklearn.metrics import accuracy_score\n",
    "from sklearn.ensemble import RandomForestClassifier\n",
    "from sklearn.linear_model import LinearRegression"
   ]
  },
  {
   "cell_type": "markdown",
   "id": "bd07acdc",
   "metadata": {},
   "source": [
    "# Data Split for Train & Test"
   ]
  },
  {
   "cell_type": "code",
   "execution_count": null,
   "id": "535e2049",
   "metadata": {},
   "outputs": [],
   "source": [
    "df14 = df13.copy()"
   ]
  },
  {
   "cell_type": "code",
   "execution_count": null,
   "id": "718b8290",
   "metadata": {},
   "outputs": [],
   "source": [
    "X = df14.drop(['m17'],axis='columns')\n",
    "y = df14.m17\n",
    "y = list(y)\n",
    "X_train, X_test, y_train, y_test = train_test_split(X, y , test_size=0.3, random_state=42)\n",
    "#X_train = preprocessing.QuantileTransformer().fit_transform(X_train)\n",
    "#X_test  = preprocessing.QuantileTransformer().fit_transform(X_test)"
   ]
  },
  {
   "cell_type": "markdown",
   "id": "da33ccc5",
   "metadata": {},
   "source": [
    "# Random Forest Classifier, Logistic Regression, Support Vector\n",
    "# Classifier (kernel = RBF), H2O AutoML, AutoKeras (Deep Learning AutoML) & Auto-sklearn"
   ]
  },
  {
   "cell_type": "markdown",
   "id": "dbfa18ba",
   "metadata": {},
   "source": [
    "# Random Forest Classifier"
   ]
  },
  {
   "cell_type": "code",
   "execution_count": null,
   "id": "ba998396",
   "metadata": {},
   "outputs": [],
   "source": [
    "clf = RandomForestClassifier(n_estimators=10).fit(X_train, y_train)\n",
    "y_pred = clf.predict(X_test)\n",
    "clf.score(X_test, y_test),accuracy_score(y_test, y_pred)"
   ]
  },
  {
   "cell_type": "markdown",
   "id": "b0335089",
   "metadata": {},
   "source": [
    "# LogisticRegression"
   ]
  },
  {
   "cell_type": "code",
   "execution_count": null,
   "id": "f1bd2263",
   "metadata": {},
   "outputs": [],
   "source": [
    "clf = LogisticRegression(random_state=0).fit(X_train, y_train)\n",
    "y_pred = clf.predict(X_test)\n",
    "clf.score(X_test, y_test),accuracy_score(y_test, y_pred)"
   ]
  },
  {
   "cell_type": "markdown",
   "id": "37373251",
   "metadata": {},
   "source": [
    "# Support Vector Machibe (Support Vector Classifier)"
   ]
  },
  {
   "cell_type": "code",
   "execution_count": null,
   "id": "0bb9403a",
   "metadata": {},
   "outputs": [],
   "source": [
    "clf = svm.SVC(kernel = 'rbf').fit(X_train, y_train)\n",
    "y_pred = clf.predict(X_test)\n",
    "clf.score(X_test, y_test),accuracy_score(y_test, y_pred)"
   ]
  },
  {
   "cell_type": "markdown",
   "id": "fea0dc64",
   "metadata": {},
   "source": [
    "# H2O AutoML"
   ]
  },
  {
   "cell_type": "code",
   "execution_count": null,
   "id": "e2747d39",
   "metadata": {},
   "outputs": [],
   "source": [
    "from sklearn.feature_selection import f_classif, SelectKBest\n",
    "from sklearn.pipeline import Pipeline\n",
    "from sklearn.preprocessing import PolynomialFeatures\n",
    "from h2o.sklearn import H2OAutoMLClassifier\n",
    "from sklearn.metrics import classification_report"
   ]
  },
  {
   "cell_type": "code",
   "execution_count": null,
   "id": "a54f5f75",
   "metadata": {},
   "outputs": [],
   "source": [
    "seed = 2020\n",
    "pipeline = Pipeline([\n",
    "    ('polyfeat', PolynomialFeatures(degree=3)),\n",
    "    ('featselect', SelectKBest(f_classif, k=10)),\n",
    "    ('classifier', H2OAutoMLClassifier(max_models=20, seed=seed, sort_metric='aucpr'))\n",
    "])\n",
    "pipeline.fit(X_train, y_train)"
   ]
  },
  {
   "cell_type": "code",
   "execution_count": null,
   "id": "414dcbc6",
   "metadata": {},
   "outputs": [],
   "source": [
    "y_pred = pipeline.predict(X_test)\n",
    "print(classification_report(y_test, y_pred))"
   ]
  },
  {
   "cell_type": "code",
   "execution_count": null,
   "id": "5fa51f43",
   "metadata": {},
   "outputs": [],
   "source": [
    "automl = pipeline.named_steps.classifier.estimator\n",
    "automl.leaderboard"
   ]
  },
  {
   "cell_type": "code",
   "execution_count": null,
   "id": "2f5ff345",
   "metadata": {},
   "outputs": [],
   "source": [
    "#https://docs.h2o.ai/h2o/latest-stable/h2o-docs/automl.html"
   ]
  },
  {
   "cell_type": "markdown",
   "id": "60c1e27a",
   "metadata": {},
   "source": [
    "# AutoKeras"
   ]
  },
  {
   "cell_type": "code",
   "execution_count": null,
   "id": "a10a5a8e",
   "metadata": {},
   "outputs": [],
   "source": []
  },
  {
   "cell_type": "markdown",
   "id": "13c06672",
   "metadata": {},
   "source": [
    "# Auto-sklearn"
   ]
  },
  {
   "cell_type": "code",
   "execution_count": null,
   "id": "0217a874",
   "metadata": {},
   "outputs": [],
   "source": []
  }
 ],
 "metadata": {
  "kernelspec": {
   "display_name": "Python 3 (ipykernel)",
   "language": "python",
   "name": "python3"
  },
  "language_info": {
   "codemirror_mode": {
    "name": "ipython",
    "version": 3
   },
   "file_extension": ".py",
   "mimetype": "text/x-python",
   "name": "python",
   "nbconvert_exporter": "python",
   "pygments_lexer": "ipython3",
   "version": "3.9.6"
  }
 },
 "nbformat": 4,
 "nbformat_minor": 5
}
