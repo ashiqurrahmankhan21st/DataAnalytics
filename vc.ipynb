{
 "cells": [
  {
   "cell_type": "code",
   "execution_count": 59,
   "id": "25e7338f",
   "metadata": {},
   "outputs": [],
   "source": [
    "import pandas as pd\n",
    "import numpy as np\n",
    "from scipy.stats import spearmanr\n",
    "from scipy.stats import chi2_contingency"
   ]
  },
  {
   "cell_type": "code",
   "execution_count": 60,
   "id": "5f5dd8e0",
   "metadata": {},
   "outputs": [],
   "source": [
    "#df = pd.read_csv('path of the dataset will be here')\n",
    "df = pd.DataFrame({\n",
    "    \"x\": [2,3,2,5,1],\n",
    "    \"OutcomeVariableName\": [1,3,2,1,3]\n",
    "    \"chi\":\n",
    "})"
   ]
  },
  {
   "cell_type": "code",
   "execution_count": 61,
   "id": "3daaa9c1",
   "metadata": {},
   "outputs": [
    {
     "data": {
      "text/plain": [
       "array([[0.],\n",
       "       [0.]])"
      ]
     },
     "execution_count": 61,
     "metadata": {},
     "output_type": "execute_result"
    }
   ],
   "source": [
    "np.zeros(len(df.columns)).reshape(len(df.columns),1)"
   ]
  },
  {
   "cell_type": "code",
   "execution_count": 66,
   "id": "62cacfff",
   "metadata": {},
   "outputs": [
    {
     "data": {
      "text/html": [
       "<div>\n",
       "<style scoped>\n",
       "    .dataframe tbody tr th:only-of-type {\n",
       "        vertical-align: middle;\n",
       "    }\n",
       "\n",
       "    .dataframe tbody tr th {\n",
       "        vertical-align: top;\n",
       "    }\n",
       "\n",
       "    .dataframe thead th {\n",
       "        text-align: right;\n",
       "    }\n",
       "</style>\n",
       "<table border=\"1\" class=\"dataframe\">\n",
       "  <thead>\n",
       "    <tr style=\"text-align: right;\">\n",
       "      <th></th>\n",
       "      <th>variable_name</th>\n",
       "      <th>P-value</th>\n",
       "      <th>degree of freedom</th>\n",
       "      <th>dependent</th>\n",
       "      <th>chi</th>\n",
       "    </tr>\n",
       "  </thead>\n",
       "  <tbody>\n",
       "    <tr>\n",
       "      <th>0</th>\n",
       "      <td>x</td>\n",
       "      <td>0.0</td>\n",
       "      <td>0.0</td>\n",
       "      <td>0.0</td>\n",
       "      <td>0.0</td>\n",
       "    </tr>\n",
       "    <tr>\n",
       "      <th>1</th>\n",
       "      <td>OutcomeVariableName</td>\n",
       "      <td>0.0</td>\n",
       "      <td>0.0</td>\n",
       "      <td>0.0</td>\n",
       "      <td>0.0</td>\n",
       "    </tr>\n",
       "  </tbody>\n",
       "</table>\n",
       "</div>"
      ],
      "text/plain": [
       "         variable_name  P-value  degree of freedom  dependent  chi\n",
       "0                    x      0.0                0.0        0.0  0.0\n",
       "1  OutcomeVariableName      0.0                0.0        0.0  0.0"
      ]
     },
     "execution_count": 66,
     "metadata": {},
     "output_type": "execute_result"
    }
   ],
   "source": [
    "p_value_data = pd.DataFrame({\n",
    "    \"variable_name\": df.columns,\n",
    "          \"P-value\": np.zeros(len(df.columns)),#.reshape(len(df.columns),1)\n",
    "    \"degree of freedom\": np.zeros(len(df.columns)),\n",
    "    \"dependent\":np.zeros(len(df.columns)),\n",
    "    \"chi\": np.zeros(len(df.columns))\n",
    "})\n",
    "p_value_data"
   ]
  },
  {
   "cell_type": "code",
   "execution_count": 63,
   "id": "9423b53c",
   "metadata": {},
   "outputs": [],
   "source": [
    "def che(x,y):\n",
    "    contigency= pd.crosstab(x,y)\n",
    "    c, p, dof, expected = chi2_contingency(contigency)\n",
    "    v = c,p,dof\n",
    "    return v"
   ]
  },
  {
   "cell_type": "code",
   "execution_count": 64,
   "id": "7b703db6",
   "metadata": {},
   "outputs": [],
   "source": [
    "for i in range(len(df.columns)):\n",
    "    v = che(df.OutcomeVariableName,df.iloc[:,i])\n",
    "    p_value_data.iloc[i,-] = v[1]\n",
    "    p_value_data.iloc[i,-1] = v[2]\n",
    "    if \n",
    "    #print('Assosiation between OutcomeVariableName &',df.columns[i],\": \",che(df.OutcomeVariableName,df.iloc[:,i]))"
   ]
  },
  {
   "cell_type": "code",
   "execution_count": 65,
   "id": "9e52b853",
   "metadata": {},
   "outputs": [
    {
     "data": {
      "text/html": [
       "<div>\n",
       "<style scoped>\n",
       "    .dataframe tbody tr th:only-of-type {\n",
       "        vertical-align: middle;\n",
       "    }\n",
       "\n",
       "    .dataframe tbody tr th {\n",
       "        vertical-align: top;\n",
       "    }\n",
       "\n",
       "    .dataframe thead th {\n",
       "        text-align: right;\n",
       "    }\n",
       "</style>\n",
       "<table border=\"1\" class=\"dataframe\">\n",
       "  <thead>\n",
       "    <tr style=\"text-align: right;\">\n",
       "      <th></th>\n",
       "      <th>variable_name</th>\n",
       "      <th>P-value</th>\n",
       "      <th>degree of freedom</th>\n",
       "    </tr>\n",
       "  </thead>\n",
       "  <tbody>\n",
       "    <tr>\n",
       "      <th>0</th>\n",
       "      <td>x</td>\n",
       "      <td>0.395776</td>\n",
       "      <td>6.0</td>\n",
       "    </tr>\n",
       "    <tr>\n",
       "      <th>1</th>\n",
       "      <td>OutcomeVariableName</td>\n",
       "      <td>0.040428</td>\n",
       "      <td>4.0</td>\n",
       "    </tr>\n",
       "  </tbody>\n",
       "</table>\n",
       "</div>"
      ],
      "text/plain": [
       "         variable_name   P-value  degree of freedom\n",
       "0                    x  0.395776                6.0\n",
       "1  OutcomeVariableName  0.040428                4.0"
      ]
     },
     "execution_count": 65,
     "metadata": {},
     "output_type": "execute_result"
    }
   ],
   "source": [
    "p_value_data"
   ]
  },
  {
   "cell_type": "code",
   "execution_count": null,
   "id": "dfaff652",
   "metadata": {},
   "outputs": [],
   "source": []
  }
 ],
 "metadata": {
  "kernelspec": {
   "display_name": "Python 3 (ipykernel)",
   "language": "python",
   "name": "python3"
  },
  "language_info": {
   "codemirror_mode": {
    "name": "ipython",
    "version": 3
   },
   "file_extension": ".py",
   "mimetype": "text/x-python",
   "name": "python",
   "nbconvert_exporter": "python",
   "pygments_lexer": "ipython3",
   "version": "3.9.6"
  }
 },
 "nbformat": 4,
 "nbformat_minor": 5
}
