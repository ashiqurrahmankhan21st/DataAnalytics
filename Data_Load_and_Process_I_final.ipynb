{
 "cells": [
  {
   "cell_type": "code",
   "execution_count": 1,
   "id": "d94e038c",
   "metadata": {},
   "outputs": [],
   "source": [
    "%run vc.ipynb as vc\n",
    "import numpy as np\n",
    "import pandas as pd\n",
    "import seaborn as sns\n",
    "import matplotlib.pyplot as plt\n",
    "from sklearn import preprocessing\n",
    "from scipy.stats import chi2_contingency\n",
    "from sklearn.preprocessing import LabelEncoder\n",
    "from sklearn.preprocessing import OneHotEncoder\n",
    "from sklearn.compose import make_column_transformer"
   ]
  },
  {
   "cell_type": "code",
   "execution_count": 2,
   "id": "adc3f145",
   "metadata": {},
   "outputs": [],
   "source": [
    "df_raw = pd.read_stata('BDBR7RFL.DTA')"
   ]
  },
  {
   "cell_type": "markdown",
   "id": "7f3b1078",
   "metadata": {},
   "source": [
    "# Initial Data Set"
   ]
  },
  {
   "cell_type": "code",
   "execution_count": 3,
   "id": "52324f40",
   "metadata": {},
   "outputs": [
    {
     "data": {
      "text/html": [
       "<div>\n",
       "<style scoped>\n",
       "    .dataframe tbody tr th:only-of-type {\n",
       "        vertical-align: middle;\n",
       "    }\n",
       "\n",
       "    .dataframe tbody tr th {\n",
       "        vertical-align: top;\n",
       "    }\n",
       "\n",
       "    .dataframe thead th {\n",
       "        text-align: right;\n",
       "    }\n",
       "</style>\n",
       "<table border=\"1\" class=\"dataframe\">\n",
       "  <thead>\n",
       "    <tr style=\"text-align: right;\">\n",
       "      <th></th>\n",
       "      <th>caseid</th>\n",
       "      <th>bidx</th>\n",
       "      <th>v000</th>\n",
       "      <th>v001</th>\n",
       "      <th>v002</th>\n",
       "      <th>v003</th>\n",
       "      <th>v004</th>\n",
       "      <th>v005</th>\n",
       "      <th>v006</th>\n",
       "      <th>v007</th>\n",
       "      <th>...</th>\n",
       "      <th>s630o</th>\n",
       "      <th>s630p</th>\n",
       "      <th>s630q</th>\n",
       "      <th>s630r</th>\n",
       "      <th>s630s</th>\n",
       "      <th>s630t</th>\n",
       "      <th>s630u</th>\n",
       "      <th>s630v</th>\n",
       "      <th>s630w</th>\n",
       "      <th>s630y</th>\n",
       "    </tr>\n",
       "  </thead>\n",
       "  <tbody>\n",
       "    <tr>\n",
       "      <th>0</th>\n",
       "      <td>1  4  2</td>\n",
       "      <td>1</td>\n",
       "      <td>BD7</td>\n",
       "      <td>1</td>\n",
       "      <td>4</td>\n",
       "      <td>2</td>\n",
       "      <td>1</td>\n",
       "      <td>664194</td>\n",
       "      <td>11</td>\n",
       "      <td>2017</td>\n",
       "      <td>...</td>\n",
       "      <td>NaN</td>\n",
       "      <td>NaN</td>\n",
       "      <td>NaN</td>\n",
       "      <td>NaN</td>\n",
       "      <td>NaN</td>\n",
       "      <td>NaN</td>\n",
       "      <td>NaN</td>\n",
       "      <td>NaN</td>\n",
       "      <td>NaN</td>\n",
       "      <td>NaN</td>\n",
       "    </tr>\n",
       "    <tr>\n",
       "      <th>1</th>\n",
       "      <td>1  4  2</td>\n",
       "      <td>2</td>\n",
       "      <td>BD7</td>\n",
       "      <td>1</td>\n",
       "      <td>4</td>\n",
       "      <td>2</td>\n",
       "      <td>1</td>\n",
       "      <td>664194</td>\n",
       "      <td>11</td>\n",
       "      <td>2017</td>\n",
       "      <td>...</td>\n",
       "      <td>NaN</td>\n",
       "      <td>NaN</td>\n",
       "      <td>NaN</td>\n",
       "      <td>NaN</td>\n",
       "      <td>NaN</td>\n",
       "      <td>NaN</td>\n",
       "      <td>NaN</td>\n",
       "      <td>NaN</td>\n",
       "      <td>NaN</td>\n",
       "      <td>NaN</td>\n",
       "    </tr>\n",
       "    <tr>\n",
       "      <th>2</th>\n",
       "      <td>1  4  2</td>\n",
       "      <td>3</td>\n",
       "      <td>BD7</td>\n",
       "      <td>1</td>\n",
       "      <td>4</td>\n",
       "      <td>2</td>\n",
       "      <td>1</td>\n",
       "      <td>664194</td>\n",
       "      <td>11</td>\n",
       "      <td>2017</td>\n",
       "      <td>...</td>\n",
       "      <td>NaN</td>\n",
       "      <td>NaN</td>\n",
       "      <td>NaN</td>\n",
       "      <td>NaN</td>\n",
       "      <td>NaN</td>\n",
       "      <td>NaN</td>\n",
       "      <td>NaN</td>\n",
       "      <td>NaN</td>\n",
       "      <td>NaN</td>\n",
       "      <td>NaN</td>\n",
       "    </tr>\n",
       "    <tr>\n",
       "      <th>3</th>\n",
       "      <td>1  4  2</td>\n",
       "      <td>4</td>\n",
       "      <td>BD7</td>\n",
       "      <td>1</td>\n",
       "      <td>4</td>\n",
       "      <td>2</td>\n",
       "      <td>1</td>\n",
       "      <td>664194</td>\n",
       "      <td>11</td>\n",
       "      <td>2017</td>\n",
       "      <td>...</td>\n",
       "      <td>NaN</td>\n",
       "      <td>NaN</td>\n",
       "      <td>NaN</td>\n",
       "      <td>NaN</td>\n",
       "      <td>NaN</td>\n",
       "      <td>NaN</td>\n",
       "      <td>NaN</td>\n",
       "      <td>NaN</td>\n",
       "      <td>NaN</td>\n",
       "      <td>NaN</td>\n",
       "    </tr>\n",
       "    <tr>\n",
       "      <th>4</th>\n",
       "      <td>1  8  3</td>\n",
       "      <td>1</td>\n",
       "      <td>BD7</td>\n",
       "      <td>1</td>\n",
       "      <td>8</td>\n",
       "      <td>3</td>\n",
       "      <td>1</td>\n",
       "      <td>664194</td>\n",
       "      <td>11</td>\n",
       "      <td>2017</td>\n",
       "      <td>...</td>\n",
       "      <td>NaN</td>\n",
       "      <td>NaN</td>\n",
       "      <td>NaN</td>\n",
       "      <td>NaN</td>\n",
       "      <td>NaN</td>\n",
       "      <td>NaN</td>\n",
       "      <td>NaN</td>\n",
       "      <td>NaN</td>\n",
       "      <td>NaN</td>\n",
       "      <td>NaN</td>\n",
       "    </tr>\n",
       "  </tbody>\n",
       "</table>\n",
       "<p>5 rows × 1227 columns</p>\n",
       "</div>"
      ],
      "text/plain": [
       "            caseid  bidx v000  v001  v002  v003  v004    v005  v006  v007  \\\n",
       "0          1  4  2     1  BD7     1     4     2     1  664194    11  2017   \n",
       "1          1  4  2     2  BD7     1     4     2     1  664194    11  2017   \n",
       "2          1  4  2     3  BD7     1     4     2     1  664194    11  2017   \n",
       "3          1  4  2     4  BD7     1     4     2     1  664194    11  2017   \n",
       "4          1  8  3     1  BD7     1     8     3     1  664194    11  2017   \n",
       "\n",
       "   ...  s630o  s630p  s630q  s630r  s630s  s630t s630u s630v s630w  s630y  \n",
       "0  ...    NaN    NaN    NaN    NaN    NaN    NaN   NaN   NaN   NaN    NaN  \n",
       "1  ...    NaN    NaN    NaN    NaN    NaN    NaN   NaN   NaN   NaN    NaN  \n",
       "2  ...    NaN    NaN    NaN    NaN    NaN    NaN   NaN   NaN   NaN    NaN  \n",
       "3  ...    NaN    NaN    NaN    NaN    NaN    NaN   NaN   NaN   NaN    NaN  \n",
       "4  ...    NaN    NaN    NaN    NaN    NaN    NaN   NaN   NaN   NaN    NaN  \n",
       "\n",
       "[5 rows x 1227 columns]"
      ]
     },
     "execution_count": 3,
     "metadata": {},
     "output_type": "execute_result"
    }
   ],
   "source": [
    "df1 = df_raw.copy()\n",
    "df1.head()"
   ]
  },
  {
   "cell_type": "markdown",
   "id": "36e13041",
   "metadata": {},
   "source": [
    "# Initial Data Shape"
   ]
  },
  {
   "cell_type": "code",
   "execution_count": 4,
   "id": "e53310d1",
   "metadata": {},
   "outputs": [
    {
     "data": {
      "text/plain": [
       "(47828, 1227)"
      ]
     },
     "execution_count": 4,
     "metadata": {},
     "output_type": "execute_result"
    }
   ],
   "source": [
    "df1.shape"
   ]
  },
  {
   "cell_type": "markdown",
   "id": "7ccd6e01",
   "metadata": {},
   "source": [
    "# Initially Selected Features"
   ]
  },
  {
   "cell_type": "code",
   "execution_count": 5,
   "id": "d3098d74",
   "metadata": {},
   "outputs": [
    {
     "data": {
      "text/html": [
       "<div>\n",
       "<style scoped>\n",
       "    .dataframe tbody tr th:only-of-type {\n",
       "        vertical-align: middle;\n",
       "    }\n",
       "\n",
       "    .dataframe tbody tr th {\n",
       "        vertical-align: top;\n",
       "    }\n",
       "\n",
       "    .dataframe thead th {\n",
       "        text-align: right;\n",
       "    }\n",
       "</style>\n",
       "<table border=\"1\" class=\"dataframe\">\n",
       "  <thead>\n",
       "    <tr style=\"text-align: right;\">\n",
       "      <th></th>\n",
       "      <th>features</th>\n",
       "      <th>label</th>\n",
       "      <th>Descriptionl</th>\n",
       "      <th>Description</th>\n",
       "    </tr>\n",
       "  </thead>\n",
       "  <tbody>\n",
       "    <tr>\n",
       "      <th>0</th>\n",
       "      <td>v012</td>\n",
       "      <td>0.0</td>\n",
       "      <td>Current age of respondent</td>\n",
       "      <td>Current age of respondent</td>\n",
       "    </tr>\n",
       "    <tr>\n",
       "      <th>1</th>\n",
       "      <td>v024</td>\n",
       "      <td>0.0</td>\n",
       "      <td>Region of residence</td>\n",
       "      <td>Region of residence</td>\n",
       "    </tr>\n",
       "    <tr>\n",
       "      <th>2</th>\n",
       "      <td>v025</td>\n",
       "      <td>0.0</td>\n",
       "      <td>Type of place of residence</td>\n",
       "      <td>Type of place of residence</td>\n",
       "    </tr>\n",
       "    <tr>\n",
       "      <th>3</th>\n",
       "      <td>v104</td>\n",
       "      <td>0.0</td>\n",
       "      <td>Time lived in current place of residence</td>\n",
       "      <td>Time lived in current place of residence</td>\n",
       "    </tr>\n",
       "    <tr>\n",
       "      <th>4</th>\n",
       "      <td>v106</td>\n",
       "      <td>0.0</td>\n",
       "      <td>Ever attended school</td>\n",
       "      <td>Ever attended school</td>\n",
       "    </tr>\n",
       "    <tr>\n",
       "      <th>5</th>\n",
       "      <td>v107</td>\n",
       "      <td>0.0</td>\n",
       "      <td>Highest grade at that level</td>\n",
       "      <td>Highest grade at that level</td>\n",
       "    </tr>\n",
       "    <tr>\n",
       "      <th>6</th>\n",
       "      <td>v113</td>\n",
       "      <td>0.0</td>\n",
       "      <td>Main source of drinking water for members of t...</td>\n",
       "      <td>Main source of drinking water for members of t...</td>\n",
       "    </tr>\n",
       "    <tr>\n",
       "      <th>7</th>\n",
       "      <td>v116</td>\n",
       "      <td>0.0</td>\n",
       "      <td>Type of toilet facility in the household</td>\n",
       "      <td>Type of toilet facility in the household</td>\n",
       "    </tr>\n",
       "    <tr>\n",
       "      <th>8</th>\n",
       "      <td>v119</td>\n",
       "      <td>0.0</td>\n",
       "      <td>Electricity</td>\n",
       "      <td>Electricity</td>\n",
       "    </tr>\n",
       "    <tr>\n",
       "      <th>9</th>\n",
       "      <td>v120</td>\n",
       "      <td>0.0</td>\n",
       "      <td>radio</td>\n",
       "      <td>radio</td>\n",
       "    </tr>\n",
       "    <tr>\n",
       "      <th>10</th>\n",
       "      <td>v121</td>\n",
       "      <td>0.0</td>\n",
       "      <td>television</td>\n",
       "      <td>television</td>\n",
       "    </tr>\n",
       "    <tr>\n",
       "      <th>11</th>\n",
       "      <td>v122</td>\n",
       "      <td>0.0</td>\n",
       "      <td>refrigerator</td>\n",
       "      <td>refrigerator</td>\n",
       "    </tr>\n",
       "    <tr>\n",
       "      <th>12</th>\n",
       "      <td>v123</td>\n",
       "      <td>0.0</td>\n",
       "      <td>bicycle</td>\n",
       "      <td>bicycle</td>\n",
       "    </tr>\n",
       "    <tr>\n",
       "      <th>13</th>\n",
       "      <td>v124</td>\n",
       "      <td>0.0</td>\n",
       "      <td>motorcycle_scooter</td>\n",
       "      <td>motorcycle/scooter</td>\n",
       "    </tr>\n",
       "    <tr>\n",
       "      <th>14</th>\n",
       "      <td>v125</td>\n",
       "      <td>0.0</td>\n",
       "      <td>car_truck</td>\n",
       "      <td>car/truck</td>\n",
       "    </tr>\n",
       "    <tr>\n",
       "      <th>15</th>\n",
       "      <td>v127</td>\n",
       "      <td>0.0</td>\n",
       "      <td>Main material of the floor</td>\n",
       "      <td>Main material of the floor</td>\n",
       "    </tr>\n",
       "    <tr>\n",
       "      <th>16</th>\n",
       "      <td>v128</td>\n",
       "      <td>0.0</td>\n",
       "      <td>Main material of the walls</td>\n",
       "      <td>Main material of the walls</td>\n",
       "    </tr>\n",
       "    <tr>\n",
       "      <th>17</th>\n",
       "      <td>v129</td>\n",
       "      <td>0.0</td>\n",
       "      <td>Main material of the roof</td>\n",
       "      <td>Main material of the roof</td>\n",
       "    </tr>\n",
       "    <tr>\n",
       "      <th>18</th>\n",
       "      <td>v130</td>\n",
       "      <td>0.0</td>\n",
       "      <td>Religion</td>\n",
       "      <td>Religion</td>\n",
       "    </tr>\n",
       "    <tr>\n",
       "      <th>19</th>\n",
       "      <td>v135</td>\n",
       "      <td>0.0</td>\n",
       "      <td>resident of the household or is just visiting ...</td>\n",
       "      <td>Whether the respondent is a usual resident of ...</td>\n",
       "    </tr>\n",
       "    <tr>\n",
       "      <th>20</th>\n",
       "      <td>v136</td>\n",
       "      <td>0.0</td>\n",
       "      <td>Total number of household members + visitors w...</td>\n",
       "      <td>Total number of household members is the numbe...</td>\n",
       "    </tr>\n",
       "    <tr>\n",
       "      <th>21</th>\n",
       "      <td>v138</td>\n",
       "      <td>0.0</td>\n",
       "      <td>total women. Eligible women  defined as aged 1...</td>\n",
       "      <td>Number of eligible women in the household. Eli...</td>\n",
       "    </tr>\n",
       "    <tr>\n",
       "      <th>22</th>\n",
       "      <td>v150</td>\n",
       "      <td>0.0</td>\n",
       "      <td>Relationship to the head of the household.</td>\n",
       "      <td>Relationship to the head of the household.</td>\n",
       "    </tr>\n",
       "    <tr>\n",
       "      <th>23</th>\n",
       "      <td>v151</td>\n",
       "      <td>0.0</td>\n",
       "      <td>Sex of the head of the household</td>\n",
       "      <td>Sex of the head of the household</td>\n",
       "    </tr>\n",
       "    <tr>\n",
       "      <th>24</th>\n",
       "      <td>v152</td>\n",
       "      <td>0.0</td>\n",
       "      <td>Age of the head of the household</td>\n",
       "      <td>Age of the head of the household</td>\n",
       "    </tr>\n",
       "    <tr>\n",
       "      <th>25</th>\n",
       "      <td>v153</td>\n",
       "      <td>0.0</td>\n",
       "      <td>Whether the household has a telephone</td>\n",
       "      <td>Whether the household has a telephone</td>\n",
       "    </tr>\n",
       "    <tr>\n",
       "      <th>26</th>\n",
       "      <td>v155</td>\n",
       "      <td>0.0</td>\n",
       "      <td>Literacy indicates whether  can read a whole o...</td>\n",
       "      <td>Literacy indicates whether a respondent who at...</td>\n",
       "    </tr>\n",
       "    <tr>\n",
       "      <th>27</th>\n",
       "      <td>v157</td>\n",
       "      <td>0.0</td>\n",
       "      <td>Reading a newspaper or magazine at least once ...</td>\n",
       "      <td>Reading a newspaper or magazine at least once ...</td>\n",
       "    </tr>\n",
       "    <tr>\n",
       "      <th>28</th>\n",
       "      <td>v158</td>\n",
       "      <td>0.0</td>\n",
       "      <td>Listening to the radio at least once a week</td>\n",
       "      <td>Listening to the radio at least once a week</td>\n",
       "    </tr>\n",
       "    <tr>\n",
       "      <th>29</th>\n",
       "      <td>v159</td>\n",
       "      <td>0.0</td>\n",
       "      <td>Watching television at least once a week</td>\n",
       "      <td>Watching television at least once a week</td>\n",
       "    </tr>\n",
       "    <tr>\n",
       "      <th>30</th>\n",
       "      <td>v160</td>\n",
       "      <td>0.0</td>\n",
       "      <td>Toilet facilities shared with other households</td>\n",
       "      <td>Toilet facilities shared with other households</td>\n",
       "    </tr>\n",
       "    <tr>\n",
       "      <th>31</th>\n",
       "      <td>v161</td>\n",
       "      <td>0.0</td>\n",
       "      <td>Type of cooking fuel</td>\n",
       "      <td>Type of cooking fuel</td>\n",
       "    </tr>\n",
       "    <tr>\n",
       "      <th>32</th>\n",
       "      <td>v401</td>\n",
       "      <td>NaN</td>\n",
       "      <td>Last birth a caesarean section</td>\n",
       "      <td>Last birth a caesarean section</td>\n",
       "    </tr>\n",
       "    <tr>\n",
       "      <th>33</th>\n",
       "      <td>v437</td>\n",
       "      <td>NaN</td>\n",
       "      <td>Weight of the respondent in kilograms.(must di...</td>\n",
       "      <td>Weight of the respondent in kilograms. (must d...</td>\n",
       "    </tr>\n",
       "    <tr>\n",
       "      <th>34</th>\n",
       "      <td>v438</td>\n",
       "      <td>NaN</td>\n",
       "      <td>Height of the respondent in centimeters. (must...</td>\n",
       "      <td>Height of the respondent in centimeters. (must...</td>\n",
       "    </tr>\n",
       "    <tr>\n",
       "      <th>35</th>\n",
       "      <td>v445</td>\n",
       "      <td>NaN</td>\n",
       "      <td>Body mass index (BMI), or Quetelet's index, fo...</td>\n",
       "      <td>Body mass index (BMI), or Quetelet's index, fo...</td>\n",
       "    </tr>\n",
       "    <tr>\n",
       "      <th>36</th>\n",
       "      <td>v501</td>\n",
       "      <td>NaN</td>\n",
       "      <td>Current marital status of the respondent</td>\n",
       "      <td>Current marital status of the respondent</td>\n",
       "    </tr>\n",
       "    <tr>\n",
       "      <th>37</th>\n",
       "      <td>v705</td>\n",
       "      <td>NaN</td>\n",
       "      <td>Standardized partner's occupation groups</td>\n",
       "      <td>Standardized partner's occupation groups</td>\n",
       "    </tr>\n",
       "    <tr>\n",
       "      <th>38</th>\n",
       "      <td>v714</td>\n",
       "      <td>NaN</td>\n",
       "      <td>Whether the respondent is currently working</td>\n",
       "      <td>Whether the respondent is currently working</td>\n",
       "    </tr>\n",
       "    <tr>\n",
       "      <th>39</th>\n",
       "      <td>v716</td>\n",
       "      <td>NaN</td>\n",
       "      <td>Respondent's occupation as collected in the co...</td>\n",
       "      <td>Respondent's occupation as collected in the co...</td>\n",
       "    </tr>\n",
       "    <tr>\n",
       "      <th>40</th>\n",
       "      <td>b4</td>\n",
       "      <td>0.0</td>\n",
       "      <td>Sex of child</td>\n",
       "      <td>Sex of child</td>\n",
       "    </tr>\n",
       "    <tr>\n",
       "      <th>41</th>\n",
       "      <td>b5</td>\n",
       "      <td>1.0</td>\n",
       "      <td>Whether child was alive or dead at the time of...</td>\n",
       "      <td>Whether child was alive or dead at the time of...</td>\n",
       "    </tr>\n",
       "    <tr>\n",
       "      <th>42</th>\n",
       "      <td>m17</td>\n",
       "      <td>1.0</td>\n",
       "      <td>Whether child was born by caesarian section</td>\n",
       "      <td>Whether child was born by caesarian section</td>\n",
       "    </tr>\n",
       "  </tbody>\n",
       "</table>\n",
       "</div>"
      ],
      "text/plain": [
       "   features  label                                       Descriptionl  \\\n",
       "0      v012    0.0                          Current age of respondent   \n",
       "1      v024    0.0                                Region of residence   \n",
       "2      v025    0.0                         Type of place of residence   \n",
       "3      v104    0.0           Time lived in current place of residence   \n",
       "4      v106    0.0                               Ever attended school   \n",
       "5      v107    0.0                        Highest grade at that level   \n",
       "6      v113    0.0  Main source of drinking water for members of t...   \n",
       "7      v116    0.0           Type of toilet facility in the household   \n",
       "8      v119    0.0                                        Electricity   \n",
       "9      v120    0.0                                              radio   \n",
       "10     v121    0.0                                         television   \n",
       "11     v122    0.0                                       refrigerator   \n",
       "12     v123    0.0                                            bicycle   \n",
       "13     v124    0.0                                 motorcycle_scooter   \n",
       "14     v125    0.0                                          car_truck   \n",
       "15     v127    0.0                         Main material of the floor   \n",
       "16     v128    0.0                         Main material of the walls   \n",
       "17     v129    0.0                          Main material of the roof   \n",
       "18     v130    0.0                                           Religion   \n",
       "19     v135    0.0  resident of the household or is just visiting ...   \n",
       "20     v136    0.0  Total number of household members + visitors w...   \n",
       "21     v138    0.0  total women. Eligible women  defined as aged 1...   \n",
       "22     v150    0.0        Relationship to the head of the household.    \n",
       "23     v151    0.0                   Sex of the head of the household   \n",
       "24     v152    0.0                   Age of the head of the household   \n",
       "25     v153    0.0              Whether the household has a telephone   \n",
       "26     v155    0.0  Literacy indicates whether  can read a whole o...   \n",
       "27     v157    0.0  Reading a newspaper or magazine at least once ...   \n",
       "28     v158    0.0        Listening to the radio at least once a week   \n",
       "29     v159    0.0           Watching television at least once a week   \n",
       "30     v160    0.0     Toilet facilities shared with other households   \n",
       "31     v161    0.0                               Type of cooking fuel   \n",
       "32     v401    NaN                     Last birth a caesarean section   \n",
       "33     v437    NaN  Weight of the respondent in kilograms.(must di...   \n",
       "34     v438    NaN  Height of the respondent in centimeters. (must...   \n",
       "35     v445    NaN  Body mass index (BMI), or Quetelet's index, fo...   \n",
       "36     v501    NaN           Current marital status of the respondent   \n",
       "37     v705    NaN           Standardized partner's occupation groups   \n",
       "38     v714    NaN        Whether the respondent is currently working   \n",
       "39     v716    NaN  Respondent's occupation as collected in the co...   \n",
       "40       b4    0.0                                       Sex of child   \n",
       "41       b5    1.0  Whether child was alive or dead at the time of...   \n",
       "42      m17    1.0        Whether child was born by caesarian section   \n",
       "\n",
       "                                          Description  \n",
       "0                           Current age of respondent  \n",
       "1                                 Region of residence  \n",
       "2                          Type of place of residence  \n",
       "3            Time lived in current place of residence  \n",
       "4                                Ever attended school  \n",
       "5                         Highest grade at that level  \n",
       "6   Main source of drinking water for members of t...  \n",
       "7            Type of toilet facility in the household  \n",
       "8                                         Electricity  \n",
       "9                                               radio  \n",
       "10                                         television  \n",
       "11                                       refrigerator  \n",
       "12                                            bicycle  \n",
       "13                                 motorcycle/scooter  \n",
       "14                                          car/truck  \n",
       "15                         Main material of the floor  \n",
       "16                         Main material of the walls  \n",
       "17                          Main material of the roof  \n",
       "18                                           Religion  \n",
       "19  Whether the respondent is a usual resident of ...  \n",
       "20  Total number of household members is the numbe...  \n",
       "21  Number of eligible women in the household. Eli...  \n",
       "22        Relationship to the head of the household.   \n",
       "23                   Sex of the head of the household  \n",
       "24                   Age of the head of the household  \n",
       "25              Whether the household has a telephone  \n",
       "26  Literacy indicates whether a respondent who at...  \n",
       "27  Reading a newspaper or magazine at least once ...  \n",
       "28        Listening to the radio at least once a week  \n",
       "29           Watching television at least once a week  \n",
       "30     Toilet facilities shared with other households  \n",
       "31                               Type of cooking fuel  \n",
       "32                     Last birth a caesarean section  \n",
       "33  Weight of the respondent in kilograms. (must d...  \n",
       "34  Height of the respondent in centimeters. (must...  \n",
       "35  Body mass index (BMI), or Quetelet's index, fo...  \n",
       "36           Current marital status of the respondent  \n",
       "37           Standardized partner's occupation groups  \n",
       "38        Whether the respondent is currently working  \n",
       "39  Respondent's occupation as collected in the co...  \n",
       "40                                       Sex of child  \n",
       "41  Whether child was alive or dead at the time of...  \n",
       "42        Whether child was born by caesarian section  "
      ]
     },
     "execution_count": 5,
     "metadata": {},
     "output_type": "execute_result"
    }
   ],
   "source": [
    "features = pd.read_excel('feature.xlsx','Sheet2')\n",
    "features.head(43)"
   ]
  },
  {
   "cell_type": "markdown",
   "id": "84b92b3e",
   "metadata": {},
   "source": [
    "# Dataset of Selected Features"
   ]
  },
  {
   "cell_type": "code",
   "execution_count": 6,
   "id": "e67b20ec",
   "metadata": {},
   "outputs": [
    {
     "data": {
      "text/html": [
       "<div>\n",
       "<style scoped>\n",
       "    .dataframe tbody tr th:only-of-type {\n",
       "        vertical-align: middle;\n",
       "    }\n",
       "\n",
       "    .dataframe tbody tr th {\n",
       "        vertical-align: top;\n",
       "    }\n",
       "\n",
       "    .dataframe thead th {\n",
       "        text-align: right;\n",
       "    }\n",
       "</style>\n",
       "<table border=\"1\" class=\"dataframe\">\n",
       "  <thead>\n",
       "    <tr style=\"text-align: right;\">\n",
       "      <th></th>\n",
       "      <th>v012</th>\n",
       "      <th>v024</th>\n",
       "      <th>v025</th>\n",
       "      <th>v104</th>\n",
       "      <th>v106</th>\n",
       "      <th>v107</th>\n",
       "      <th>v113</th>\n",
       "      <th>v116</th>\n",
       "      <th>v119</th>\n",
       "      <th>v120</th>\n",
       "      <th>...</th>\n",
       "      <th>v705</th>\n",
       "      <th>v714</th>\n",
       "      <th>v716</th>\n",
       "      <th>b4</th>\n",
       "      <th>b5</th>\n",
       "      <th>m17</th>\n",
       "      <th>m17a</th>\n",
       "      <th>m45</th>\n",
       "      <th>v190</th>\n",
       "      <th>b0</th>\n",
       "    </tr>\n",
       "  </thead>\n",
       "  <tbody>\n",
       "    <tr>\n",
       "      <th>0</th>\n",
       "      <td>39</td>\n",
       "      <td>barisal</td>\n",
       "      <td>rural</td>\n",
       "      <td>25</td>\n",
       "      <td>primary</td>\n",
       "      <td>2.0</td>\n",
       "      <td>tube well or borehole</td>\n",
       "      <td>pit latrine without slab/open pit</td>\n",
       "      <td>no</td>\n",
       "      <td>no</td>\n",
       "      <td>...</td>\n",
       "      <td>services</td>\n",
       "      <td>no</td>\n",
       "      <td>not working and didn't work in last 12 months</td>\n",
       "      <td>female</td>\n",
       "      <td>yes</td>\n",
       "      <td>NaN</td>\n",
       "      <td>NaN</td>\n",
       "      <td>NaN</td>\n",
       "      <td>poorest</td>\n",
       "      <td>single birth</td>\n",
       "    </tr>\n",
       "    <tr>\n",
       "      <th>1</th>\n",
       "      <td>39</td>\n",
       "      <td>barisal</td>\n",
       "      <td>rural</td>\n",
       "      <td>25</td>\n",
       "      <td>primary</td>\n",
       "      <td>2.0</td>\n",
       "      <td>tube well or borehole</td>\n",
       "      <td>pit latrine without slab/open pit</td>\n",
       "      <td>no</td>\n",
       "      <td>no</td>\n",
       "      <td>...</td>\n",
       "      <td>services</td>\n",
       "      <td>no</td>\n",
       "      <td>not working and didn't work in last 12 months</td>\n",
       "      <td>female</td>\n",
       "      <td>yes</td>\n",
       "      <td>NaN</td>\n",
       "      <td>NaN</td>\n",
       "      <td>NaN</td>\n",
       "      <td>poorest</td>\n",
       "      <td>single birth</td>\n",
       "    </tr>\n",
       "    <tr>\n",
       "      <th>2</th>\n",
       "      <td>39</td>\n",
       "      <td>barisal</td>\n",
       "      <td>rural</td>\n",
       "      <td>25</td>\n",
       "      <td>primary</td>\n",
       "      <td>2.0</td>\n",
       "      <td>tube well or borehole</td>\n",
       "      <td>pit latrine without slab/open pit</td>\n",
       "      <td>no</td>\n",
       "      <td>no</td>\n",
       "      <td>...</td>\n",
       "      <td>services</td>\n",
       "      <td>no</td>\n",
       "      <td>not working and didn't work in last 12 months</td>\n",
       "      <td>male</td>\n",
       "      <td>yes</td>\n",
       "      <td>NaN</td>\n",
       "      <td>NaN</td>\n",
       "      <td>NaN</td>\n",
       "      <td>poorest</td>\n",
       "      <td>single birth</td>\n",
       "    </tr>\n",
       "    <tr>\n",
       "      <th>3</th>\n",
       "      <td>39</td>\n",
       "      <td>barisal</td>\n",
       "      <td>rural</td>\n",
       "      <td>25</td>\n",
       "      <td>primary</td>\n",
       "      <td>2.0</td>\n",
       "      <td>tube well or borehole</td>\n",
       "      <td>pit latrine without slab/open pit</td>\n",
       "      <td>no</td>\n",
       "      <td>no</td>\n",
       "      <td>...</td>\n",
       "      <td>services</td>\n",
       "      <td>no</td>\n",
       "      <td>not working and didn't work in last 12 months</td>\n",
       "      <td>female</td>\n",
       "      <td>yes</td>\n",
       "      <td>NaN</td>\n",
       "      <td>NaN</td>\n",
       "      <td>NaN</td>\n",
       "      <td>poorest</td>\n",
       "      <td>single birth</td>\n",
       "    </tr>\n",
       "    <tr>\n",
       "      <th>4</th>\n",
       "      <td>28</td>\n",
       "      <td>barisal</td>\n",
       "      <td>rural</td>\n",
       "      <td>12</td>\n",
       "      <td>secondary</td>\n",
       "      <td>2.0</td>\n",
       "      <td>tube well or borehole</td>\n",
       "      <td>pit latrine with slab</td>\n",
       "      <td>no</td>\n",
       "      <td>no</td>\n",
       "      <td>...</td>\n",
       "      <td>skilled manual</td>\n",
       "      <td>no</td>\n",
       "      <td>not working and didn't work in last 12 months</td>\n",
       "      <td>male</td>\n",
       "      <td>yes</td>\n",
       "      <td>NaN</td>\n",
       "      <td>NaN</td>\n",
       "      <td>NaN</td>\n",
       "      <td>poorer</td>\n",
       "      <td>single birth</td>\n",
       "    </tr>\n",
       "  </tbody>\n",
       "</table>\n",
       "<p>5 rows × 47 columns</p>\n",
       "</div>"
      ],
      "text/plain": [
       "   v012     v024   v025 v104       v106 v107                   v113  \\\n",
       "0    39  barisal  rural   25    primary  2.0  tube well or borehole   \n",
       "1    39  barisal  rural   25    primary  2.0  tube well or borehole   \n",
       "2    39  barisal  rural   25    primary  2.0  tube well or borehole   \n",
       "3    39  barisal  rural   25    primary  2.0  tube well or borehole   \n",
       "4    28  barisal  rural   12  secondary  2.0  tube well or borehole   \n",
       "\n",
       "                                v116 v119 v120  ...            v705 v714  \\\n",
       "0  pit latrine without slab/open pit   no   no  ...        services   no   \n",
       "1  pit latrine without slab/open pit   no   no  ...        services   no   \n",
       "2  pit latrine without slab/open pit   no   no  ...        services   no   \n",
       "3  pit latrine without slab/open pit   no   no  ...        services   no   \n",
       "4              pit latrine with slab   no   no  ...  skilled manual   no   \n",
       "\n",
       "                                            v716      b4   b5  m17 m17a  m45  \\\n",
       "0  not working and didn't work in last 12 months  female  yes  NaN  NaN  NaN   \n",
       "1  not working and didn't work in last 12 months  female  yes  NaN  NaN  NaN   \n",
       "2  not working and didn't work in last 12 months    male  yes  NaN  NaN  NaN   \n",
       "3  not working and didn't work in last 12 months  female  yes  NaN  NaN  NaN   \n",
       "4  not working and didn't work in last 12 months    male  yes  NaN  NaN  NaN   \n",
       "\n",
       "      v190            b0  \n",
       "0  poorest  single birth  \n",
       "1  poorest  single birth  \n",
       "2  poorest  single birth  \n",
       "3  poorest  single birth  \n",
       "4   poorer  single birth  \n",
       "\n",
       "[5 rows x 47 columns]"
      ]
     },
     "execution_count": 6,
     "metadata": {},
     "output_type": "execute_result"
    }
   ],
   "source": [
    "df2= df1[features['features']]\n",
    "df2.head()"
   ]
  },
  {
   "cell_type": "markdown",
   "id": "abb3db5f",
   "metadata": {},
   "source": [
    "features['row_with_counts']=0"
   ]
  },
  {
   "cell_type": "markdown",
   "id": "712a0b2d",
   "metadata": {},
   "source": [
    "for i in range(len(df_new.columns)):\n",
    "    features.iloc[i,-1] = df_new.iloc[:,i].dropna().value_counts().sum()"
   ]
  },
  {
   "cell_type": "markdown",
   "id": "29aa13d3",
   "metadata": {
    "scrolled": true
   },
   "source": [
    "features.head(50)"
   ]
  },
  {
   "cell_type": "markdown",
   "id": "6cc63120",
   "metadata": {},
   "source": [
    "# Filtering Based on C-Section Data Availability "
   ]
  },
  {
   "cell_type": "code",
   "execution_count": 7,
   "id": "5a29bcf0",
   "metadata": {},
   "outputs": [
    {
     "data": {
      "text/html": [
       "<div>\n",
       "<style scoped>\n",
       "    .dataframe tbody tr th:only-of-type {\n",
       "        vertical-align: middle;\n",
       "    }\n",
       "\n",
       "    .dataframe tbody tr th {\n",
       "        vertical-align: top;\n",
       "    }\n",
       "\n",
       "    .dataframe thead th {\n",
       "        text-align: right;\n",
       "    }\n",
       "</style>\n",
       "<table border=\"1\" class=\"dataframe\">\n",
       "  <thead>\n",
       "    <tr style=\"text-align: right;\">\n",
       "      <th></th>\n",
       "      <th>v012</th>\n",
       "      <th>v024</th>\n",
       "      <th>v025</th>\n",
       "      <th>v104</th>\n",
       "      <th>v106</th>\n",
       "      <th>v107</th>\n",
       "      <th>v113</th>\n",
       "      <th>v116</th>\n",
       "      <th>v119</th>\n",
       "      <th>v120</th>\n",
       "      <th>...</th>\n",
       "      <th>v705</th>\n",
       "      <th>v714</th>\n",
       "      <th>v716</th>\n",
       "      <th>b4</th>\n",
       "      <th>b5</th>\n",
       "      <th>m17</th>\n",
       "      <th>m17a</th>\n",
       "      <th>m45</th>\n",
       "      <th>v190</th>\n",
       "      <th>b0</th>\n",
       "    </tr>\n",
       "  </thead>\n",
       "  <tbody>\n",
       "    <tr>\n",
       "      <th>5</th>\n",
       "      <td>18</td>\n",
       "      <td>barisal</td>\n",
       "      <td>rural</td>\n",
       "      <td>1</td>\n",
       "      <td>higher</td>\n",
       "      <td>2.0</td>\n",
       "      <td>tube well or borehole</td>\n",
       "      <td>pit latrine without slab/open pit</td>\n",
       "      <td>no</td>\n",
       "      <td>no</td>\n",
       "      <td>...</td>\n",
       "      <td>professional/technical/managerial</td>\n",
       "      <td>no</td>\n",
       "      <td>not working and didn't work in last 12 months</td>\n",
       "      <td>male</td>\n",
       "      <td>yes</td>\n",
       "      <td>yes</td>\n",
       "      <td>before labor started</td>\n",
       "      <td>yes</td>\n",
       "      <td>poorest</td>\n",
       "      <td>single birth</td>\n",
       "    </tr>\n",
       "    <tr>\n",
       "      <th>18</th>\n",
       "      <td>35</td>\n",
       "      <td>barisal</td>\n",
       "      <td>rural</td>\n",
       "      <td>19</td>\n",
       "      <td>primary</td>\n",
       "      <td>5.0</td>\n",
       "      <td>tube well or borehole</td>\n",
       "      <td>pit latrine without slab/open pit</td>\n",
       "      <td>no</td>\n",
       "      <td>no</td>\n",
       "      <td>...</td>\n",
       "      <td>skilled manual</td>\n",
       "      <td>no</td>\n",
       "      <td>not working and didn't work in last 12 months</td>\n",
       "      <td>male</td>\n",
       "      <td>yes</td>\n",
       "      <td>no</td>\n",
       "      <td>NaN</td>\n",
       "      <td>yes</td>\n",
       "      <td>poorest</td>\n",
       "      <td>single birth</td>\n",
       "    </tr>\n",
       "    <tr>\n",
       "      <th>26</th>\n",
       "      <td>21</td>\n",
       "      <td>barisal</td>\n",
       "      <td>rural</td>\n",
       "      <td>visitor</td>\n",
       "      <td>secondary</td>\n",
       "      <td>5.0</td>\n",
       "      <td>not a dejure resident</td>\n",
       "      <td>not a dejure resident</td>\n",
       "      <td>not a dejure resident</td>\n",
       "      <td>not a dejure resident</td>\n",
       "      <td>...</td>\n",
       "      <td>skilled manual</td>\n",
       "      <td>no</td>\n",
       "      <td>not working and didn't work in last 12 months</td>\n",
       "      <td>male</td>\n",
       "      <td>yes</td>\n",
       "      <td>yes</td>\n",
       "      <td>after labor started</td>\n",
       "      <td>yes</td>\n",
       "      <td>poorer</td>\n",
       "      <td>single birth</td>\n",
       "    </tr>\n",
       "    <tr>\n",
       "      <th>27</th>\n",
       "      <td>21</td>\n",
       "      <td>barisal</td>\n",
       "      <td>rural</td>\n",
       "      <td>visitor</td>\n",
       "      <td>secondary</td>\n",
       "      <td>5.0</td>\n",
       "      <td>not a dejure resident</td>\n",
       "      <td>not a dejure resident</td>\n",
       "      <td>not a dejure resident</td>\n",
       "      <td>not a dejure resident</td>\n",
       "      <td>...</td>\n",
       "      <td>skilled manual</td>\n",
       "      <td>no</td>\n",
       "      <td>not working and didn't work in last 12 months</td>\n",
       "      <td>female</td>\n",
       "      <td>no</td>\n",
       "      <td>no</td>\n",
       "      <td>NaN</td>\n",
       "      <td>NaN</td>\n",
       "      <td>poorer</td>\n",
       "      <td>single birth</td>\n",
       "    </tr>\n",
       "    <tr>\n",
       "      <th>30</th>\n",
       "      <td>31</td>\n",
       "      <td>barisal</td>\n",
       "      <td>rural</td>\n",
       "      <td>18</td>\n",
       "      <td>primary</td>\n",
       "      <td>1.0</td>\n",
       "      <td>tube well or borehole</td>\n",
       "      <td>hanging toilet/latrine</td>\n",
       "      <td>no</td>\n",
       "      <td>no</td>\n",
       "      <td>...</td>\n",
       "      <td>sales</td>\n",
       "      <td>no</td>\n",
       "      <td>not working and didn't work in last 12 months</td>\n",
       "      <td>male</td>\n",
       "      <td>yes</td>\n",
       "      <td>no</td>\n",
       "      <td>NaN</td>\n",
       "      <td>no</td>\n",
       "      <td>poorest</td>\n",
       "      <td>single birth</td>\n",
       "    </tr>\n",
       "  </tbody>\n",
       "</table>\n",
       "<p>5 rows × 47 columns</p>\n",
       "</div>"
      ],
      "text/plain": [
       "    v012     v024   v025     v104       v106 v107                   v113  \\\n",
       "5     18  barisal  rural        1     higher  2.0  tube well or borehole   \n",
       "18    35  barisal  rural       19    primary  5.0  tube well or borehole   \n",
       "26    21  barisal  rural  visitor  secondary  5.0  not a dejure resident   \n",
       "27    21  barisal  rural  visitor  secondary  5.0  not a dejure resident   \n",
       "30    31  barisal  rural       18    primary  1.0  tube well or borehole   \n",
       "\n",
       "                                 v116                   v119  \\\n",
       "5   pit latrine without slab/open pit                     no   \n",
       "18  pit latrine without slab/open pit                     no   \n",
       "26              not a dejure resident  not a dejure resident   \n",
       "27              not a dejure resident  not a dejure resident   \n",
       "30             hanging toilet/latrine                     no   \n",
       "\n",
       "                     v120  ...                               v705 v714  \\\n",
       "5                      no  ...  professional/technical/managerial   no   \n",
       "18                     no  ...                     skilled manual   no   \n",
       "26  not a dejure resident  ...                     skilled manual   no   \n",
       "27  not a dejure resident  ...                     skilled manual   no   \n",
       "30                     no  ...                              sales   no   \n",
       "\n",
       "                                             v716      b4   b5  m17  \\\n",
       "5   not working and didn't work in last 12 months    male  yes  yes   \n",
       "18  not working and didn't work in last 12 months    male  yes   no   \n",
       "26  not working and didn't work in last 12 months    male  yes  yes   \n",
       "27  not working and didn't work in last 12 months  female   no   no   \n",
       "30  not working and didn't work in last 12 months    male  yes   no   \n",
       "\n",
       "                    m17a  m45     v190            b0  \n",
       "5   before labor started  yes  poorest  single birth  \n",
       "18                   NaN  yes  poorest  single birth  \n",
       "26   after labor started  yes   poorer  single birth  \n",
       "27                   NaN  NaN   poorer  single birth  \n",
       "30                   NaN   no  poorest  single birth  \n",
       "\n",
       "[5 rows x 47 columns]"
      ]
     },
     "execution_count": 7,
     "metadata": {},
     "output_type": "execute_result"
    }
   ],
   "source": [
    "df3 = 0\n",
    "df3 = df2[(df2['m17'] == 'yes') | (df2['m17'] == 'no')]\n",
    "df3.head()"
   ]
  },
  {
   "cell_type": "markdown",
   "id": "50fbcd20",
   "metadata": {},
   "source": [
    "# Filtered Dataset Shape"
   ]
  },
  {
   "cell_type": "code",
   "execution_count": 8,
   "id": "95a1e800",
   "metadata": {},
   "outputs": [
    {
     "data": {
      "text/plain": [
       "(5299, 47)"
      ]
     },
     "execution_count": 8,
     "metadata": {},
     "output_type": "execute_result"
    }
   ],
   "source": [
    "df3.shape"
   ]
  },
  {
   "cell_type": "markdown",
   "id": "6f6c7a63",
   "metadata": {},
   "source": [
    "dfnew = dfnew.dropna()#.reset_index()\n",
    "dfnew"
   ]
  },
  {
   "cell_type": "code",
   "execution_count": 9,
   "id": "cba5dbbd",
   "metadata": {},
   "outputs": [
    {
     "data": {
      "text/html": [
       "<div>\n",
       "<style scoped>\n",
       "    .dataframe tbody tr th:only-of-type {\n",
       "        vertical-align: middle;\n",
       "    }\n",
       "\n",
       "    .dataframe tbody tr th {\n",
       "        vertical-align: top;\n",
       "    }\n",
       "\n",
       "    .dataframe thead th {\n",
       "        text-align: right;\n",
       "    }\n",
       "</style>\n",
       "<table border=\"1\" class=\"dataframe\">\n",
       "  <thead>\n",
       "    <tr style=\"text-align: right;\">\n",
       "      <th></th>\n",
       "      <th>v012</th>\n",
       "      <th>v024</th>\n",
       "      <th>v025</th>\n",
       "      <th>v104</th>\n",
       "      <th>v106</th>\n",
       "      <th>v107</th>\n",
       "      <th>v113</th>\n",
       "      <th>v116</th>\n",
       "      <th>v119</th>\n",
       "      <th>v120</th>\n",
       "      <th>...</th>\n",
       "      <th>v705</th>\n",
       "      <th>v714</th>\n",
       "      <th>v716</th>\n",
       "      <th>b4</th>\n",
       "      <th>b5</th>\n",
       "      <th>m17</th>\n",
       "      <th>m17a</th>\n",
       "      <th>m45</th>\n",
       "      <th>v190</th>\n",
       "      <th>b0</th>\n",
       "    </tr>\n",
       "  </thead>\n",
       "  <tbody>\n",
       "    <tr>\n",
       "      <th>0</th>\n",
       "      <td>18</td>\n",
       "      <td>barisal</td>\n",
       "      <td>rural</td>\n",
       "      <td>1</td>\n",
       "      <td>higher</td>\n",
       "      <td>2.0</td>\n",
       "      <td>tube well or borehole</td>\n",
       "      <td>pit latrine without slab/open pit</td>\n",
       "      <td>no</td>\n",
       "      <td>no</td>\n",
       "      <td>...</td>\n",
       "      <td>professional/technical/managerial</td>\n",
       "      <td>no</td>\n",
       "      <td>not working and didn't work in last 12 months</td>\n",
       "      <td>male</td>\n",
       "      <td>yes</td>\n",
       "      <td>yes</td>\n",
       "      <td>before labor started</td>\n",
       "      <td>yes</td>\n",
       "      <td>poorest</td>\n",
       "      <td>single birth</td>\n",
       "    </tr>\n",
       "    <tr>\n",
       "      <th>1</th>\n",
       "      <td>35</td>\n",
       "      <td>barisal</td>\n",
       "      <td>rural</td>\n",
       "      <td>19</td>\n",
       "      <td>primary</td>\n",
       "      <td>5.0</td>\n",
       "      <td>tube well or borehole</td>\n",
       "      <td>pit latrine without slab/open pit</td>\n",
       "      <td>no</td>\n",
       "      <td>no</td>\n",
       "      <td>...</td>\n",
       "      <td>skilled manual</td>\n",
       "      <td>no</td>\n",
       "      <td>not working and didn't work in last 12 months</td>\n",
       "      <td>male</td>\n",
       "      <td>yes</td>\n",
       "      <td>no</td>\n",
       "      <td>NaN</td>\n",
       "      <td>yes</td>\n",
       "      <td>poorest</td>\n",
       "      <td>single birth</td>\n",
       "    </tr>\n",
       "    <tr>\n",
       "      <th>2</th>\n",
       "      <td>21</td>\n",
       "      <td>barisal</td>\n",
       "      <td>rural</td>\n",
       "      <td>visitor</td>\n",
       "      <td>secondary</td>\n",
       "      <td>5.0</td>\n",
       "      <td>not a dejure resident</td>\n",
       "      <td>not a dejure resident</td>\n",
       "      <td>not a dejure resident</td>\n",
       "      <td>not a dejure resident</td>\n",
       "      <td>...</td>\n",
       "      <td>skilled manual</td>\n",
       "      <td>no</td>\n",
       "      <td>not working and didn't work in last 12 months</td>\n",
       "      <td>male</td>\n",
       "      <td>yes</td>\n",
       "      <td>yes</td>\n",
       "      <td>after labor started</td>\n",
       "      <td>yes</td>\n",
       "      <td>poorer</td>\n",
       "      <td>single birth</td>\n",
       "    </tr>\n",
       "    <tr>\n",
       "      <th>3</th>\n",
       "      <td>21</td>\n",
       "      <td>barisal</td>\n",
       "      <td>rural</td>\n",
       "      <td>visitor</td>\n",
       "      <td>secondary</td>\n",
       "      <td>5.0</td>\n",
       "      <td>not a dejure resident</td>\n",
       "      <td>not a dejure resident</td>\n",
       "      <td>not a dejure resident</td>\n",
       "      <td>not a dejure resident</td>\n",
       "      <td>...</td>\n",
       "      <td>skilled manual</td>\n",
       "      <td>no</td>\n",
       "      <td>not working and didn't work in last 12 months</td>\n",
       "      <td>female</td>\n",
       "      <td>no</td>\n",
       "      <td>no</td>\n",
       "      <td>NaN</td>\n",
       "      <td>NaN</td>\n",
       "      <td>poorer</td>\n",
       "      <td>single birth</td>\n",
       "    </tr>\n",
       "    <tr>\n",
       "      <th>4</th>\n",
       "      <td>31</td>\n",
       "      <td>barisal</td>\n",
       "      <td>rural</td>\n",
       "      <td>18</td>\n",
       "      <td>primary</td>\n",
       "      <td>1.0</td>\n",
       "      <td>tube well or borehole</td>\n",
       "      <td>hanging toilet/latrine</td>\n",
       "      <td>no</td>\n",
       "      <td>no</td>\n",
       "      <td>...</td>\n",
       "      <td>sales</td>\n",
       "      <td>no</td>\n",
       "      <td>not working and didn't work in last 12 months</td>\n",
       "      <td>male</td>\n",
       "      <td>yes</td>\n",
       "      <td>no</td>\n",
       "      <td>NaN</td>\n",
       "      <td>no</td>\n",
       "      <td>poorest</td>\n",
       "      <td>single birth</td>\n",
       "    </tr>\n",
       "  </tbody>\n",
       "</table>\n",
       "<p>5 rows × 47 columns</p>\n",
       "</div>"
      ],
      "text/plain": [
       "   v012     v024   v025     v104       v106 v107                   v113  \\\n",
       "0    18  barisal  rural        1     higher  2.0  tube well or borehole   \n",
       "1    35  barisal  rural       19    primary  5.0  tube well or borehole   \n",
       "2    21  barisal  rural  visitor  secondary  5.0  not a dejure resident   \n",
       "3    21  barisal  rural  visitor  secondary  5.0  not a dejure resident   \n",
       "4    31  barisal  rural       18    primary  1.0  tube well or borehole   \n",
       "\n",
       "                                v116                   v119  \\\n",
       "0  pit latrine without slab/open pit                     no   \n",
       "1  pit latrine without slab/open pit                     no   \n",
       "2              not a dejure resident  not a dejure resident   \n",
       "3              not a dejure resident  not a dejure resident   \n",
       "4             hanging toilet/latrine                     no   \n",
       "\n",
       "                    v120  ...                               v705 v714  \\\n",
       "0                     no  ...  professional/technical/managerial   no   \n",
       "1                     no  ...                     skilled manual   no   \n",
       "2  not a dejure resident  ...                     skilled manual   no   \n",
       "3  not a dejure resident  ...                     skilled manual   no   \n",
       "4                     no  ...                              sales   no   \n",
       "\n",
       "                                            v716      b4   b5  m17  \\\n",
       "0  not working and didn't work in last 12 months    male  yes  yes   \n",
       "1  not working and didn't work in last 12 months    male  yes   no   \n",
       "2  not working and didn't work in last 12 months    male  yes  yes   \n",
       "3  not working and didn't work in last 12 months  female   no   no   \n",
       "4  not working and didn't work in last 12 months    male  yes   no   \n",
       "\n",
       "                   m17a  m45     v190            b0  \n",
       "0  before labor started  yes  poorest  single birth  \n",
       "1                   NaN  yes  poorest  single birth  \n",
       "2   after labor started  yes   poorer  single birth  \n",
       "3                   NaN  NaN   poorer  single birth  \n",
       "4                   NaN   no  poorest  single birth  \n",
       "\n",
       "[5 rows x 47 columns]"
      ]
     },
     "execution_count": 9,
     "metadata": {},
     "output_type": "execute_result"
    }
   ],
   "source": [
    "df3 = df3.reset_index()\n",
    "del df3['index']\n",
    "df3.head()"
   ]
  },
  {
   "cell_type": "code",
   "execution_count": 10,
   "id": "cf9c15b5",
   "metadata": {},
   "outputs": [
    {
     "data": {
      "text/plain": [
       "(5299, 47)"
      ]
     },
     "execution_count": 10,
     "metadata": {},
     "output_type": "execute_result"
    }
   ],
   "source": [
    "df3.shape"
   ]
  },
  {
   "cell_type": "code",
   "execution_count": 11,
   "id": "d5dd795e",
   "metadata": {},
   "outputs": [],
   "source": [
    "df4 = df3.copy()"
   ]
  },
  {
   "cell_type": "markdown",
   "id": "2b5568cf",
   "metadata": {},
   "source": [
    "# Feature Engineering"
   ]
  },
  {
   "cell_type": "markdown",
   "id": "51ceb7e0",
   "metadata": {},
   "source": [
    "# variable : v104,Time lived in current place of residence"
   ]
  },
  {
   "cell_type": "code",
   "execution_count": 12,
   "id": "910ed595",
   "metadata": {},
   "outputs": [
    {
     "data": {
      "text/plain": [
       "('Time lived in current place of residence',\n",
       " visitor    686\n",
       " always     579\n",
       " 3          464\n",
       " 2          401\n",
       " 4          380\n",
       " 1          272\n",
       " 5          264\n",
       " 7          243\n",
       " 8          212\n",
       " 10         198\n",
       " 6          190\n",
       " 0          189\n",
       " 9          185\n",
       " 12         156\n",
       " 11         152\n",
       " 15         107\n",
       " 13         100\n",
       " 14         100\n",
       " 16          89\n",
       " 17          71\n",
       " 18          59\n",
       " 19          55\n",
       " 20          47\n",
       " 22          22\n",
       " 23          19\n",
       " 21          17\n",
       " 24          16\n",
       " 26           6\n",
       " 25           5\n",
       " 30           5\n",
       " 27           4\n",
       " 32           2\n",
       " 33           1\n",
       " 36           1\n",
       " 31           1\n",
       " 29           1\n",
       " 34           0\n",
       " 35           0\n",
       " 37           0\n",
       " 38           0\n",
       " 39           0\n",
       " 40           0\n",
       " 41           0\n",
       " 42           0\n",
       " 43           0\n",
       " 46           0\n",
       " 28           0\n",
       " Name: v104, dtype: int64)"
      ]
     },
     "execution_count": 12,
     "metadata": {},
     "output_type": "execute_result"
    }
   ],
   "source": [
    "j = 3\n",
    "features[\"Descriptionl\"][j],df4.iloc[:,j].value_counts()"
   ]
  },
  {
   "cell_type": "code",
   "execution_count": 13,
   "id": "98e75723",
   "metadata": {},
   "outputs": [],
   "source": [
    "df4[\"new_v104\"] = 0\n",
    "for i in range(len(df4)):\n",
    "    if df4.v104[i] == 'visitor':\n",
    "        df4.iloc[i,-1] = 'visitor'\n",
    "    \n",
    "    elif df4.v104[i] == 'always':\n",
    "        df4.iloc[i,-1] = \"permanent_resident\"\n",
    "    \n",
    "    else:\n",
    "        df4.iloc[i,-1] = \"new_resident duration between 0 to 33 days\"        \n",
    "\n",
    "        \n",
    "df4.v104 = df4.iloc[:,-1]\n",
    "df4 = df4.drop(['new_v104'],axis='columns')"
   ]
  },
  {
   "cell_type": "code",
   "execution_count": 14,
   "id": "51f13f0d",
   "metadata": {},
   "outputs": [
    {
     "data": {
      "text/plain": [
       "('Time lived in current place of residence',\n",
       " new_resident duration between 0 to 33 days    4034\n",
       " visitor                                        686\n",
       " permanent_resident                             579\n",
       " Name: v104, dtype: int64)"
      ]
     },
     "execution_count": 14,
     "metadata": {},
     "output_type": "execute_result"
    }
   ],
   "source": [
    "features[\"Descriptionl\"][j],df4.v104.value_counts()"
   ]
  },
  {
   "cell_type": "markdown",
   "id": "66629697",
   "metadata": {},
   "source": [
    "# variable : v107,Highest grade at that level (variable v106)"
   ]
  },
  {
   "cell_type": "code",
   "execution_count": 15,
   "id": "07df0a04",
   "metadata": {},
   "outputs": [
    {
     "data": {
      "text/plain": [
       "('Highest grade at that level',\n",
       " 2.0                                 1140\n",
       " 4.0                                 1104\n",
       " 5.0                                  899\n",
       " 3.0                                  707\n",
       " no years completed at level v106     511\n",
       " 1.0                                  465\n",
       " 6.0                                   94\n",
       " 7.0                                   30\n",
       " 8.0                                    3\n",
       " Name: v107, dtype: int64)"
      ]
     },
     "execution_count": 15,
     "metadata": {},
     "output_type": "execute_result"
    }
   ],
   "source": [
    "df5 = df4.copy()\n",
    "j = 5\n",
    "features[\"Descriptionl\"][j],df5.iloc[:,j].value_counts()"
   ]
  },
  {
   "cell_type": "code",
   "execution_count": 16,
   "id": "e8b413f7",
   "metadata": {},
   "outputs": [],
   "source": [
    "df5[\"new_v107\"] = 0\n",
    "for i in range(len(df5)):\n",
    "    if df5.v107[i] == 'no years completed at level v106':\n",
    "        df5.iloc[i,-1] = 0\n",
    "    else:\n",
    "        df5.iloc[i,-1] = df5.v107[i]\n",
    "        \n",
    "df5.v107 = df5.iloc[:,-1]\n",
    "df5 = df5.drop(['new_v107'],axis='columns')"
   ]
  },
  {
   "cell_type": "code",
   "execution_count": 17,
   "id": "d24577ed",
   "metadata": {},
   "outputs": [
    {
     "data": {
      "text/plain": [
       "('Highest grade at that level',\n",
       " 2.0    1140\n",
       " 4.0    1104\n",
       " 5.0     899\n",
       " 3.0     707\n",
       " 0.0     511\n",
       " 1.0     465\n",
       " 6.0      94\n",
       " 7.0      30\n",
       " 8.0       3\n",
       " Name: v107, dtype: int64)"
      ]
     },
     "execution_count": 17,
     "metadata": {},
     "output_type": "execute_result"
    }
   ],
   "source": [
    "features[\"Descriptionl\"][j],df5.v107.value_counts()"
   ]
  },
  {
   "cell_type": "markdown",
   "id": "00fad877",
   "metadata": {},
   "source": [
    "# variable : v120 & v121, radio & television, converted to  v120+v121 (get news yes/no, not a dejure resident = 99"
   ]
  },
  {
   "cell_type": "code",
   "execution_count": 18,
   "id": "b57b4a2e",
   "metadata": {},
   "outputs": [
    {
     "data": {
      "text/plain": [
       "('radio',\n",
       " no                       4543\n",
       " not a dejure resident     713\n",
       " yes                        43\n",
       " Name: v120, dtype: int64)"
      ]
     },
     "execution_count": 18,
     "metadata": {},
     "output_type": "execute_result"
    }
   ],
   "source": [
    "df6 = df5.copy()\n",
    "j = 9\n",
    "features[\"Descriptionl\"][j],df6.iloc[:,j].value_counts()"
   ]
  },
  {
   "cell_type": "code",
   "execution_count": 19,
   "id": "6d655380",
   "metadata": {},
   "outputs": [
    {
     "data": {
      "text/plain": [
       "('television',\n",
       " no                       2453\n",
       " yes                      2133\n",
       " not a dejure resident     713\n",
       " Name: v121, dtype: int64)"
      ]
     },
     "execution_count": 19,
     "metadata": {},
     "output_type": "execute_result"
    }
   ],
   "source": [
    "j = 10\n",
    "features[\"Descriptionl\"][j],df6.iloc[:,j].value_counts()"
   ]
  },
  {
   "cell_type": "code",
   "execution_count": 20,
   "id": "8fdf0d54",
   "metadata": {},
   "outputs": [],
   "source": [
    "df6[\"v120+v121\"] = 0\n",
    "for i in range(len(df6)):\n",
    "    if df6.v120[i] == 'no' and df6.v121[i] == 'no':\n",
    "        df6.iloc[i,-1] = 'no'                                                        #pp.append(0)\n",
    "    elif df6.v120[i] == 'yes' or df6.v121[i] == 'yes':\n",
    "        df6.iloc[i,-1] = 'yes'                                                       #pp.append(1)\n",
    "    elif df6.v120[i] == 'not a dejure resident' and df6.v121[i] == 'not a dejure resident':\n",
    "        df6.iloc[i,-1] = 'not a dejure resident'       #not a dejure resident                             #pp.append(99)\n",
    "\n",
    "df6 = df6.drop(['v120','v121'],axis='columns')"
   ]
  },
  {
   "cell_type": "code",
   "execution_count": 21,
   "id": "c9d50624",
   "metadata": {},
   "outputs": [
    {
     "name": "stdout",
     "output_type": "stream",
     "text": [
      "television/radio\n"
     ]
    },
    {
     "data": {
      "text/plain": [
       "no                       2439\n",
       "yes                      2147\n",
       "not a dejure resident     713\n",
       "Name: v120+v121, dtype: int64"
      ]
     },
     "execution_count": 21,
     "metadata": {},
     "output_type": "execute_result"
    }
   ],
   "source": [
    "print(\"television/radio\")\n",
    "df6[\"v120+v121\"].value_counts()"
   ]
  },
  {
   "cell_type": "markdown",
   "id": "2bfc9baf",
   "metadata": {},
   "source": [
    "# variable : v123, v124 & v125, bicycle, motorcycle_scooter & car_truck, converted to v123+v124+v125 (personal transport yes/no, not a dejure resident = 99"
   ]
  },
  {
   "cell_type": "code",
   "execution_count": 22,
   "id": "7cbf52c8",
   "metadata": {},
   "outputs": [
    {
     "data": {
      "text/plain": [
       "('bicycle',\n",
       " no                       3467\n",
       " yes                      1119\n",
       " not a dejure resident     713\n",
       " Name: v123, dtype: int64)"
      ]
     },
     "execution_count": 22,
     "metadata": {},
     "output_type": "execute_result"
    }
   ],
   "source": [
    "df7 = df6.copy()\n",
    "j = 12\n",
    "features[\"Descriptionl\"][j],df7.iloc[:,j-2].value_counts()"
   ]
  },
  {
   "cell_type": "code",
   "execution_count": 23,
   "id": "db377c46",
   "metadata": {},
   "outputs": [
    {
     "data": {
      "text/plain": [
       "('motorcycle_scooter',\n",
       " no                       4124\n",
       " not a dejure resident     713\n",
       " yes                       462\n",
       " Name: v124, dtype: int64)"
      ]
     },
     "execution_count": 23,
     "metadata": {},
     "output_type": "execute_result"
    }
   ],
   "source": [
    "j = 13\n",
    "features[\"Descriptionl\"][j],df7.iloc[:,j-2].value_counts()"
   ]
  },
  {
   "cell_type": "code",
   "execution_count": 24,
   "id": "b15a8c8c",
   "metadata": {},
   "outputs": [
    {
     "data": {
      "text/plain": [
       "('car_truck',\n",
       " no                       4542\n",
       " not a dejure resident     713\n",
       " yes                        44\n",
       " Name: v125, dtype: int64)"
      ]
     },
     "execution_count": 24,
     "metadata": {},
     "output_type": "execute_result"
    }
   ],
   "source": [
    "j = 14\n",
    "features[\"Descriptionl\"][j],df7.iloc[:,j-2].value_counts()"
   ]
  },
  {
   "cell_type": "code",
   "execution_count": 25,
   "id": "b8f2830e",
   "metadata": {},
   "outputs": [],
   "source": [
    "df7[\"v123+v124+v125\"] = 0\n",
    "for i in range(len(df7)):\n",
    "    if df7.v123[i] == 'no' and df7.v124[i] == 'no' and df7.v125[i] == 'no':\n",
    "        df7.iloc[i,-1] = 'no'                                                        #pp.append(0)\n",
    "    elif df7.v123[i] == 'yes' or df7.v124[i] == 'yes' or df7.v125[i] == 'yes':\n",
    "        df7.iloc[i,-1] = 'yes'                                                       #pp.append(1)\n",
    "    elif df7.v123[i] == 'not a dejure resident' and df7.v124[i] == 'not a dejure resident' and df7.v125[i] == 'not a dejure resident':\n",
    "        df7.iloc[i,-1] = 'not a dejure resident'       #not a dejure resident                             #pp.append(99)\n",
    "\n",
    "df7 = df7.drop(['v123','v124','v125'],axis='columns')"
   ]
  },
  {
   "cell_type": "code",
   "execution_count": 26,
   "id": "074ad86d",
   "metadata": {},
   "outputs": [
    {
     "name": "stdout",
     "output_type": "stream",
     "text": [
      "bicycle/motorcycle_scooter/car_truck\n"
     ]
    },
    {
     "data": {
      "text/plain": [
       "no                       3130\n",
       "yes                      1456\n",
       "not a dejure resident     713\n",
       "Name: v123+v124+v125, dtype: int64"
      ]
     },
     "execution_count": 26,
     "metadata": {},
     "output_type": "execute_result"
    }
   ],
   "source": [
    "print(\"bicycle/motorcycle_scooter/car_truck\")\n",
    "df7[\"v123+v124+v125\"].value_counts()"
   ]
  },
  {
   "cell_type": "markdown",
   "id": "d6954930",
   "metadata": {},
   "source": [
    "# variable : v153, Whether the household has a telephone, (not a dejure resident = 99)"
   ]
  },
  {
   "cell_type": "code",
   "execution_count": 27,
   "id": "0d1e88c6",
   "metadata": {},
   "outputs": [],
   "source": [
    "df8 = df7.copy()"
   ]
  },
  {
   "cell_type": "code",
   "execution_count": 28,
   "id": "98bc8589",
   "metadata": {},
   "outputs": [
    {
     "data": {
      "text/plain": [
       "('Whether the household has a telephone',\n",
       " no                       4564\n",
       " not a dejure resident     713\n",
       " yes                        22\n",
       " Name: v153, dtype: int64)"
      ]
     },
     "execution_count": 28,
     "metadata": {},
     "output_type": "execute_result"
    }
   ],
   "source": [
    "j = 25\n",
    "features[\"Descriptionl\"][j],df8.iloc[:,j-5].value_counts()"
   ]
  },
  {
   "cell_type": "code",
   "execution_count": 29,
   "id": "b39b43ce",
   "metadata": {},
   "outputs": [],
   "source": [
    "df8[\"new_v153\"] = 0\n",
    "for i in range(len(df8)):\n",
    "    if df8.v153[i] == 'no': #and df7.v124[i] == 'no' and df7.v125[i] == 'no':\n",
    "        df8.iloc[i,-1] = 'no'                                                        #pp.append(0)\n",
    "    elif df8.v153[i] == 'yes': #or df7.v124[i] == 'yes' or df7.v125[i] == 'yes':\n",
    "        df8.iloc[i,-1] = 'yes'                                                       #pp.append(1)\n",
    "    elif df8.v153[i] == 'not a dejure resident': #and df7.v124[i] == 'not a dejure resident' and df7.v125[i] == 'not a dejure resident':\n",
    "        df8.iloc[i,-1] = 'not a dejure resident'       #not a dejure resident                             #pp.append(99)\n",
    "\n",
    "df8['v153'] = df8['new_v153']        \n",
    "df8 = df8.drop(['new_v153'],axis='columns')"
   ]
  },
  {
   "cell_type": "code",
   "execution_count": 30,
   "id": "48a707b0",
   "metadata": {},
   "outputs": [
    {
     "data": {
      "text/plain": [
       "('Whether the household has a telephone',\n",
       " no                       4564\n",
       " not a dejure resident     713\n",
       " yes                        22\n",
       " Name: v153, dtype: int64)"
      ]
     },
     "execution_count": 30,
     "metadata": {},
     "output_type": "execute_result"
    }
   ],
   "source": [
    "features[\"Descriptionl\"][j],df8['v153'].value_counts()"
   ]
  },
  {
   "cell_type": "markdown",
   "id": "89a03ec6",
   "metadata": {},
   "source": [
    "# variable : v106,v107,v155 educated and can read or not"
   ]
  },
  {
   "cell_type": "code",
   "execution_count": 31,
   "id": "0572360c",
   "metadata": {},
   "outputs": [],
   "source": [
    "df9 = df8.copy()"
   ]
  },
  {
   "cell_type": "code",
   "execution_count": 32,
   "id": "9803271a",
   "metadata": {},
   "outputs": [
    {
     "data": {
      "text/plain": [
       "('Literacy indicates whether  can read a whole or part of a sentence showed. ',\n",
       " able to read whole sentence            4006\n",
       " cannot read at all                      744\n",
       " able to read only parts of sentence     548\n",
       " no card with required language            0\n",
       " blind/visually impaired                   0\n",
       " Name: v155, dtype: int64)"
      ]
     },
     "execution_count": 32,
     "metadata": {},
     "output_type": "execute_result"
    }
   ],
   "source": [
    "j = 26\n",
    "features[\"Descriptionl\"][j],df9.iloc[:,j-5].value_counts()"
   ]
  },
  {
   "cell_type": "code",
   "execution_count": 33,
   "id": "86b512c5",
   "metadata": {},
   "outputs": [
    {
     "data": {
      "text/plain": [
       "secondary       2534\n",
       "primary         1477\n",
       "higher           942\n",
       "no education     346\n",
       "Name: v106, dtype: int64"
      ]
     },
     "execution_count": 33,
     "metadata": {},
     "output_type": "execute_result"
    }
   ],
   "source": [
    "df9.v106.value_counts()"
   ]
  },
  {
   "cell_type": "code",
   "execution_count": 34,
   "id": "27373afb",
   "metadata": {},
   "outputs": [
    {
     "data": {
      "text/plain": [
       "2.0    1140\n",
       "4.0    1104\n",
       "5.0     899\n",
       "3.0     707\n",
       "0.0     511\n",
       "1.0     465\n",
       "6.0      94\n",
       "7.0      30\n",
       "8.0       3\n",
       "Name: v107, dtype: int64"
      ]
     },
     "execution_count": 34,
     "metadata": {},
     "output_type": "execute_result"
    }
   ],
   "source": [
    "df9.v107.value_counts()"
   ]
  },
  {
   "cell_type": "code",
   "execution_count": 35,
   "id": "114ba8c8",
   "metadata": {},
   "outputs": [
    {
     "data": {
      "text/plain": [
       "able to read whole sentence            4006\n",
       "cannot read at all                      744\n",
       "able to read only parts of sentence     548\n",
       "no card with required language            0\n",
       "blind/visually impaired                   0\n",
       "Name: v155, dtype: int64"
      ]
     },
     "execution_count": 35,
     "metadata": {},
     "output_type": "execute_result"
    }
   ],
   "source": [
    "df9.v155.value_counts()"
   ]
  },
  {
   "cell_type": "code",
   "execution_count": 36,
   "id": "11f624b4",
   "metadata": {},
   "outputs": [],
   "source": [
    "df9['v106v107v155'] = 0\n",
    "for i in range(len(df9)):\n",
    "    if df9.v106[i] == \"secondary\" or df9.v106[i] == \"primary\" or df9.v106[i] == \"higher\" and df9.v107[i] > 0:\n",
    "        if df9.v155[i] == \"able to read whole sentence\" or df9.v155[i] == \"able to read only parts of sentence\":\n",
    "            df9.iloc[i,-1] = \"literate\" #literate - went to school and can read\n",
    "        else:\n",
    "            df9.iloc[i,-1] = \"not literate\" #not literate - went to school and can't read\n",
    "    else:\n",
    "        df9.iloc[i,-1] = \"illiterate\" #illiterate - did't go to school and can't read"
   ]
  },
  {
   "cell_type": "code",
   "execution_count": 37,
   "id": "5007aec1",
   "metadata": {},
   "outputs": [
    {
     "data": {
      "text/plain": [
       "literate        4285\n",
       "illiterate       602\n",
       "not literate     412\n",
       "Name: v106v107v155, dtype: int64"
      ]
     },
     "execution_count": 37,
     "metadata": {},
     "output_type": "execute_result"
    }
   ],
   "source": [
    "df9['v106v107v155'].value_counts()"
   ]
  },
  {
   "cell_type": "code",
   "execution_count": 38,
   "id": "02005f02",
   "metadata": {},
   "outputs": [],
   "source": [
    "df9 = df9.drop(['v106','v107','v155'],axis='columns')"
   ]
  },
  {
   "cell_type": "markdown",
   "id": "a6596bdb",
   "metadata": {},
   "source": [
    "# variable : v157, v158, v159, get entertained / get news from newspaper/tv/radio/"
   ]
  },
  {
   "cell_type": "code",
   "execution_count": 39,
   "id": "98fd24bd",
   "metadata": {},
   "outputs": [],
   "source": [
    "df10 = df9.copy()"
   ]
  },
  {
   "cell_type": "code",
   "execution_count": 40,
   "id": "36849e27",
   "metadata": {},
   "outputs": [
    {
     "data": {
      "text/plain": [
       "('Reading a newspaper or magazine at least once a week',\n",
       " not at all               4712\n",
       " less than once a week     401\n",
       " at least once a week      186\n",
       " Name: v157, dtype: int64)"
      ]
     },
     "execution_count": 40,
     "metadata": {},
     "output_type": "execute_result"
    }
   ],
   "source": [
    "j = 27\n",
    "features[\"Descriptionl\"][j],df10.v157.value_counts()"
   ]
  },
  {
   "cell_type": "code",
   "execution_count": 41,
   "id": "f09983d5",
   "metadata": {},
   "outputs": [
    {
     "data": {
      "text/plain": [
       "('Listening to the radio at least once a week',\n",
       " not at all               4994\n",
       " less than once a week     193\n",
       " at least once a week      112\n",
       " Name: v158, dtype: int64)"
      ]
     },
     "execution_count": 41,
     "metadata": {},
     "output_type": "execute_result"
    }
   ],
   "source": [
    "j = 28\n",
    "features[\"Descriptionl\"][j],df10.v158.value_counts()"
   ]
  },
  {
   "cell_type": "code",
   "execution_count": 42,
   "id": "dc401c4a",
   "metadata": {},
   "outputs": [
    {
     "data": {
      "text/plain": [
       "('Watching television at least once a week',\n",
       " at least once a week     2786\n",
       " not at all               2048\n",
       " less than once a week     465\n",
       " Name: v159, dtype: int64)"
      ]
     },
     "execution_count": 42,
     "metadata": {},
     "output_type": "execute_result"
    }
   ],
   "source": [
    "j = 29\n",
    "features[\"Descriptionl\"][j],df10.v159.value_counts()"
   ]
  },
  {
   "cell_type": "code",
   "execution_count": 43,
   "id": "5f18f98d",
   "metadata": {},
   "outputs": [],
   "source": [
    "df10['v157v158v159'] = 0\n",
    "for i in range(len(df10)):\n",
    "    if df10.v157[i] == 'not at all' and df10.v157[i] == df10.v158[i] and df10.v157[i] == df10.v159[i]:\n",
    "        df10.iloc[i,-1] = 'not at all'\n",
    "    else:\n",
    "         df10.iloc[i,-1] = 'get news/entertained'"
   ]
  },
  {
   "cell_type": "code",
   "execution_count": 44,
   "id": "a8f5498d",
   "metadata": {},
   "outputs": [
    {
     "data": {
      "text/plain": [
       "get news/entertained    3378\n",
       "not at all              1921\n",
       "Name: v157v158v159, dtype: int64"
      ]
     },
     "execution_count": 44,
     "metadata": {},
     "output_type": "execute_result"
    }
   ],
   "source": [
    "df10['v157v158v159'].value_counts()"
   ]
  },
  {
   "cell_type": "markdown",
   "id": "865771d9",
   "metadata": {},
   "source": [
    "# variable: v437,v438,v445, weight/10, height/10 and BMI/100"
   ]
  },
  {
   "cell_type": "code",
   "execution_count": 45,
   "id": "ed255909",
   "metadata": {},
   "outputs": [
    {
     "data": {
      "text/plain": [
       "('Height of the respondent in centimeters. (must divide by 10)',\n",
       " refused    50\n",
       " 481.0      37\n",
       " 471.0      35\n",
       " 461.0      35\n",
       " 451.0      34\n",
       "            ..\n",
       " 278.0       0\n",
       " 817.0       0\n",
       " 818.0       0\n",
       " 819.0       0\n",
       " 240.0       0\n",
       " Name: v437, Length: 637, dtype: int64)"
      ]
     },
     "execution_count": 45,
     "metadata": {},
     "output_type": "execute_result"
    }
   ],
   "source": [
    "df11 = df10.copy()\n",
    "j = 34\n",
    "features[\"Descriptionl\"][j],df11.v437.value_counts()"
   ]
  },
  {
   "cell_type": "code",
   "execution_count": 46,
   "id": "10941af4",
   "metadata": {},
   "outputs": [
    {
     "data": {
      "text/plain": [
       "('Weight of the respondent in kilograms.(must divide by 10)',\n",
       " refused    50\n",
       " 481.0      37\n",
       " 471.0      35\n",
       " 461.0      35\n",
       " 451.0      34\n",
       "            ..\n",
       " 278.0       0\n",
       " 817.0       0\n",
       " 818.0       0\n",
       " 819.0       0\n",
       " 240.0       0\n",
       " Name: v437, Length: 637, dtype: int64)"
      ]
     },
     "execution_count": 46,
     "metadata": {},
     "output_type": "execute_result"
    }
   ],
   "source": [
    "j = 33\n",
    "features[\"Descriptionl\"][j],df11.v437.value_counts()"
   ]
  },
  {
   "cell_type": "code",
   "execution_count": 47,
   "id": "76e8f551",
   "metadata": {},
   "outputs": [],
   "source": [
    "a = 0\n",
    "a = df11.v437.astype(str)\n",
    "for i in range(len(df10)):\n",
    "    if a[i] == 'not present':\n",
    "        a[i] = 0\n",
    "    elif a[i] == 'refused':\n",
    "        a[i] = 0\n",
    "    elif a[i] == 'other':\n",
    "        a[i] = 0\n",
    "        \n",
    "a= a.astype(float)\n",
    "for i in range(len(df10)):\n",
    "        a[i] = a[i]/10\n",
    "df11.v437 = a"
   ]
  },
  {
   "cell_type": "code",
   "execution_count": 48,
   "id": "aaf2be75",
   "metadata": {},
   "outputs": [
    {
     "data": {
      "text/plain": [
       "('Weight of the respondent in kilograms.(must divide by 10)',\n",
       " 0.0     79\n",
       " 48.1    37\n",
       " 47.1    35\n",
       " 46.1    35\n",
       " 45.1    34\n",
       "         ..\n",
       " 72.3     1\n",
       " 67.0     1\n",
       " 85.4     1\n",
       " 90.3     1\n",
       " 83.2     1\n",
       " Name: v437, Length: 510, dtype: int64)"
      ]
     },
     "execution_count": 48,
     "metadata": {},
     "output_type": "execute_result"
    }
   ],
   "source": [
    "features[\"Descriptionl\"][j],df11.v437.value_counts()"
   ]
  },
  {
   "cell_type": "code",
   "execution_count": 49,
   "id": "74c96aef",
   "metadata": {},
   "outputs": [
    {
     "data": {
      "text/plain": [
       "('Height of the respondent in centimeters. (must divide by 10)',\n",
       " 1516.0    55\n",
       " 1532.0    54\n",
       " 1503.0    53\n",
       " 1546.0    51\n",
       " 1512.0    51\n",
       "           ..\n",
       " 1323.0     0\n",
       " 1326.0     0\n",
       " 1329.0     0\n",
       " 1330.0     0\n",
       " 1007.0     0\n",
       " Name: v438, Length: 386, dtype: int64)"
      ]
     },
     "execution_count": 49,
     "metadata": {},
     "output_type": "execute_result"
    }
   ],
   "source": [
    "j = 34\n",
    "features[\"Descriptionl\"][j],df11.v438.value_counts()"
   ]
  },
  {
   "cell_type": "code",
   "execution_count": 50,
   "id": "cdbb717b",
   "metadata": {},
   "outputs": [],
   "source": [
    "a = 0\n",
    "a = df11.v438.astype(str)\n",
    "for i in range(len(df10)):\n",
    "    if a[i] == 'not present':\n",
    "        a[i] = 0\n",
    "    elif a[i] == 'refused':\n",
    "        a[i] = 0\n",
    "    elif a[i] == 'other':\n",
    "        a[i] = 0\n",
    "        \n",
    "a= a.astype(float)\n",
    "for i in range(len(df10)):\n",
    "        a[i] = a[i]/10\n",
    "df11.v438 = a"
   ]
  },
  {
   "cell_type": "code",
   "execution_count": 51,
   "id": "81ed3587",
   "metadata": {},
   "outputs": [
    {
     "data": {
      "text/plain": [
       "('Height of the respondent in centimeters. (must divide by 10)',\n",
       " 0.0      79\n",
       " 151.6    55\n",
       " 153.2    54\n",
       " 150.3    53\n",
       " 154.6    51\n",
       "          ..\n",
       " 136.7     1\n",
       " 132.7     1\n",
       " 129.3     1\n",
       " 134.7     1\n",
       " 137.7     1\n",
       " Name: v438, Length: 315, dtype: int64)"
      ]
     },
     "execution_count": 51,
     "metadata": {},
     "output_type": "execute_result"
    }
   ],
   "source": [
    "features[\"Descriptionl\"][j],df11.v438.value_counts()"
   ]
  },
  {
   "cell_type": "code",
   "execution_count": 52,
   "id": "484a30bd",
   "metadata": {},
   "outputs": [
    {
     "data": {
      "text/plain": [
       "(\"Body mass index (BMI), or Quetelet's index, for the respondent (divide by 100)\",\n",
       " 1978.0           14\n",
       " 2334.0           13\n",
       " 2071.0           13\n",
       " 1920.0           13\n",
       " 2038.0           13\n",
       "                  ..\n",
       " 3051.0            0\n",
       " 3054.0            0\n",
       " 3055.0            0\n",
       " 3056.0            0\n",
       " flagged cases     0\n",
       " Name: v445, Length: 2083, dtype: int64)"
      ]
     },
     "execution_count": 52,
     "metadata": {},
     "output_type": "execute_result"
    }
   ],
   "source": [
    "j = 35\n",
    "features[\"Descriptionl\"][j],df11.v445.value_counts()"
   ]
  },
  {
   "cell_type": "code",
   "execution_count": 53,
   "id": "eb899d04",
   "metadata": {},
   "outputs": [],
   "source": [
    "a = 0\n",
    "a = df11.v445.astype(str)\n",
    "for i in range(len(df10)):\n",
    "    if a[i] == 'not present':\n",
    "        a[i] = 0\n",
    "    elif a[i] == 'refused':\n",
    "        a[i] = 0\n",
    "    elif a[i] == 'other':\n",
    "        a[i] = 0\n",
    "        \n",
    "a= a.astype(float)\n",
    "for i in range(len(df10)):\n",
    "        a[i] = a[i]/100\n",
    "df11.v445 = a"
   ]
  },
  {
   "cell_type": "code",
   "execution_count": 54,
   "id": "398b2366",
   "metadata": {},
   "outputs": [
    {
     "data": {
      "text/plain": [
       "(\"Body mass index (BMI), or Quetelet's index, for the respondent (divide by 100)\",\n",
       " 19.78    14\n",
       " 20.71    13\n",
       " 19.20    13\n",
       " 23.34    13\n",
       " 20.38    13\n",
       "          ..\n",
       " 28.05     1\n",
       " 26.08     1\n",
       " 30.37     1\n",
       " 28.46     1\n",
       " 31.40     1\n",
       " Name: v445, Length: 1513, dtype: int64)"
      ]
     },
     "execution_count": 54,
     "metadata": {},
     "output_type": "execute_result"
    }
   ],
   "source": [
    "features[\"Descriptionl\"][j],df11.v445.value_counts()"
   ]
  },
  {
   "cell_type": "code",
   "execution_count": 55,
   "id": "7a59c466",
   "metadata": {},
   "outputs": [
    {
     "data": {
      "text/plain": [
       "19.78    14\n",
       "20.71    13\n",
       "19.20    13\n",
       "23.34    13\n",
       "20.38    13\n",
       "         ..\n",
       "28.05     1\n",
       "26.08     1\n",
       "30.37     1\n",
       "28.46     1\n",
       "31.40     1\n",
       "Name: v445, Length: 1513, dtype: int64"
      ]
     },
     "execution_count": 55,
     "metadata": {},
     "output_type": "execute_result"
    }
   ],
   "source": [
    "df11.v445.value_counts()"
   ]
  },
  {
   "cell_type": "markdown",
   "id": "e3a1c8dd",
   "metadata": {},
   "source": [
    "# variable : m17a,Timing on decision for caesarean section\t"
   ]
  },
  {
   "cell_type": "code",
   "execution_count": 56,
   "id": "13a38dc8",
   "metadata": {},
   "outputs": [
    {
     "data": {
      "text/plain": [
       "('Timing on decision for caesarean section',\n",
       " before labor started    1005\n",
       " after labor started      735\n",
       " Name: m17a, dtype: int64)"
      ]
     },
     "execution_count": 56,
     "metadata": {},
     "output_type": "execute_result"
    }
   ],
   "source": [
    "df12 = df11.copy()\n",
    "j = 43\n",
    "features[\"Descriptionl\"][j],df12.m17a.value_counts()"
   ]
  },
  {
   "cell_type": "code",
   "execution_count": 57,
   "id": "053cc0de",
   "metadata": {},
   "outputs": [],
   "source": [
    "df12['new_m17a'] = 0\n",
    "for i in range(len(df12)):\n",
    "    if df12['m17a'][i] == \"before labor started\":\n",
    "        df12.iloc[i,-1] = \"before labor started\"\n",
    "    elif df12['m17a'][i] == \"after labor started\":\n",
    "        df12.iloc[i,-1] = \"after labor started\"\n",
    "    else:\n",
    "        df12.iloc[i,-1] = \"no decision taken\""
   ]
  },
  {
   "cell_type": "code",
   "execution_count": 58,
   "id": "be17c157",
   "metadata": {},
   "outputs": [],
   "source": [
    "df12['m17a'] = df12['new_m17a']\n",
    "df12 = df12.drop(['new_m17a'],axis='columns')"
   ]
  },
  {
   "cell_type": "code",
   "execution_count": 59,
   "id": "b09cd8e5",
   "metadata": {},
   "outputs": [
    {
     "data": {
      "text/plain": [
       "('Timing on decision for caesarean section',\n",
       " no decision taken       3559\n",
       " before labor started    1005\n",
       " after labor started      735\n",
       " Name: m17a, dtype: int64)"
      ]
     },
     "execution_count": 59,
     "metadata": {},
     "output_type": "execute_result"
    }
   ],
   "source": [
    "features[\"Descriptionl\"][j],df12.m17a.value_counts()"
   ]
  },
  {
   "cell_type": "code",
   "execution_count": 77,
   "id": "38acc3e8",
   "metadata": {},
   "outputs": [],
   "source": [
    "fdf = df12.copy()"
   ]
  },
  {
   "cell_type": "code",
   "execution_count": 81,
   "id": "6c0d69ef",
   "metadata": {},
   "outputs": [
    {
     "data": {
      "image/png": "[encoded data removed]",
      "text/plain": [
       "<Figure size 508.75x360 with 1 Axes>"
      ]
     },
     "metadata": {
      "needs_background": "light"
     },
     "output_type": "display_data"
    }
   ],
   "source": [
    "for k in range(1):\n",
    "    i = 10\n",
    "    variable = fdf.iloc[:,i]\n",
    "    variable_name = features.Description[i]\n",
    "    \n",
    "    data = pd.DataFrame(\n",
    "        {\n",
    "            variable_name   : fdf.iloc[:,i],\n",
    "            \"encoded number\": variable#enc(variable)\n",
    "        })\n",
    "    \n",
    "    #sns.set_palette(sns.color_palette(\"tab10\"))\n",
    "    g = sns.displot(data, x = \"encoded number\",hue=variable_name)\n",
    "    \n",
    "    \n",
    "    name_of_image = features.Descriptionl[i] + \".png\"\n",
    "    \n",
    "    #plt.savefig(name_of_image, dpi=1200)\n",
    "    plt.show()"
   ]
  },
  {
   "cell_type": "code",
   "execution_count": null,
   "id": "d1c4df2f",
   "metadata": {},
   "outputs": [],
   "source": []
  }
 ],
 "metadata": {
  "kernelspec": {
   "display_name": "Python 3 (ipykernel)",
   "language": "python",
   "name": "python3"
  },
  "language_info": {
   "codemirror_mode": {
    "name": "ipython",
    "version": 3
   },
   "file_extension": ".py",
   "mimetype": "text/x-python",
   "name": "python",
   "nbconvert_exporter": "python",
   "pygments_lexer": "ipython3",
   "version": "3.9.6"
  }
 },
 "nbformat": 4,
 "nbformat_minor": 5
}
